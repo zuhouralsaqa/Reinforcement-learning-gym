{
  "cells": [
    {
      "cell_type": "markdown",
      "metadata": {
        "id": "view-in-github",
        "colab_type": "text"
      },
      "source": [
        "<a href=\"https://colab.research.google.com/github/zuhouralsaqa/zuhouralsaqa/blob/main/MountainCar_v0_Agent.ipynb\" target=\"_parent\"><img src=\"https://colab.research.google.com/assets/colab-badge.svg\" alt=\"Open In Colab\"/></a>"
      ]
    },
    {
      "cell_type": "markdown",
      "metadata": {
        "id": "8pvCroIuFH08"
      },
      "source": [
        "# 1. dependences"
      ]
    },
    {
      "cell_type": "code",
      "execution_count": 2,
      "metadata": {
        "colab": {
          "base_uri": "https://localhost:8080/"
        },
        "id": "tUTv0YqfbAeU",
        "outputId": "eeda004b-1144-4734-e920-7f8eff5721f8"
      },
      "outputs": [
        {
          "output_type": "stream",
          "name": "stdout",
          "text": [
            "\r0% [Working]\r            \rHit:1 https://cloud.r-project.org/bin/linux/ubuntu jammy-cran40/ InRelease\n",
            "\r0% [Connecting to archive.ubuntu.com (91.189.91.81)] [Connecting to security.ub\r                                                                               \rHit:2 https://developer.download.nvidia.com/compute/cuda/repos/ubuntu2204/x86_64  InRelease\n",
            "\r0% [Waiting for headers] [Waiting for headers] [Connecting to ppa.launchpadcont\r                                                                               \rHit:3 http://archive.ubuntu.com/ubuntu jammy InRelease\n",
            "Get:4 http://security.ubuntu.com/ubuntu jammy-security InRelease [110 kB]\n",
            "Get:5 http://archive.ubuntu.com/ubuntu jammy-updates InRelease [119 kB]\n",
            "Get:6 http://archive.ubuntu.com/ubuntu jammy-backports InRelease [109 kB]\n",
            "Get:7 https://ppa.launchpadcontent.net/c2d4u.team/c2d4u4.0+/ubuntu jammy InRelease [18.1 kB]\n",
            "Hit:8 https://ppa.launchpadcontent.net/deadsnakes/ppa/ubuntu jammy InRelease\n",
            "Hit:9 https://ppa.launchpadcontent.net/graphics-drivers/ppa/ubuntu jammy InRelease\n",
            "Hit:10 https://ppa.launchpadcontent.net/ubuntugis/ppa/ubuntu jammy InRelease\n",
            "Get:11 https://ppa.launchpadcontent.net/c2d4u.team/c2d4u4.0+/ubuntu jammy/main Sources [2,180 kB]\n",
            "Get:12 https://ppa.launchpadcontent.net/c2d4u.team/c2d4u4.0+/ubuntu jammy/main amd64 Packages [1,119 kB]\n",
            "Fetched 3,655 kB in 6s (655 kB/s)\n",
            "Reading package lists... Done\n",
            "Reading package lists... Done\n",
            "Building dependency tree... Done\n",
            "Reading state information... Done\n",
            "git is already the newest version (1:2.34.1-1ubuntu1.10).\n",
            "0 upgraded, 0 newly installed, 0 to remove and 17 not upgraded.\n"
          ]
        }
      ],
      "source": [
        "!apt-get update\n",
        "!apt-get install git"
      ]
    },
    {
      "cell_type": "code",
      "execution_count": 3,
      "metadata": {
        "colab": {
          "base_uri": "https://localhost:8080/"
        },
        "id": "RZ1UHgm57oWt",
        "outputId": "af7c1b89-1a86-44a8-bc93-07e173035684"
      },
      "outputs": [
        {
          "output_type": "stream",
          "name": "stdout",
          "text": [
            "Cloning into 'ofxBox2d'...\n",
            "fatal: unable to connect to github.com:\n",
            "github.com[0: 140.82.114.4]: errno=Connection timed out\n",
            "\n",
            "/bin/bash: line 1: cd: ofxBox2d: No such file or directory\n",
            "fatal: not a git repository (or any of the parent directories): .git\n"
          ]
        }
      ],
      "source": [
        "!git clone git://github.com/vanderlin/ofxBox2d.git\n",
        "!cd ofxBox2d\n",
        "!git checkout 008"
      ]
    },
    {
      "cell_type": "code",
      "execution_count": 4,
      "metadata": {
        "colab": {
          "base_uri": "https://localhost:8080/"
        },
        "id": "4Cnbr0V_U-Rl",
        "outputId": "cb15d574-2d64-4dd9-8db9-2cf7bb723c7d"
      },
      "outputs": [
        {
          "output_type": "stream",
          "name": "stdout",
          "text": [
            "E: Package 'python-dev' has no installation candidate\n",
            "E: Unable to locate package python-pygame\n",
            "fatal: You must specify a repository to clone.\n",
            "\n",
            "usage: git clone [<options>] [--] <repo> [<dir>]\n",
            "\n",
            "    -v, --verbose         be more verbose\n",
            "    -q, --quiet           be more quiet\n",
            "    --progress            force progress reporting\n",
            "    --reject-shallow      don't clone shallow repository\n",
            "    -n, --no-checkout     don't create a checkout\n",
            "    --bare                create a bare repository\n",
            "    --mirror              create a mirror repository (implies bare)\n",
            "    -l, --local           to clone from a local repository\n",
            "    --no-hardlinks        don't use local hardlinks, always copy\n",
            "    -s, --shared          setup as shared repository\n",
            "    --recurse-submodules[=<pathspec>]\n",
            "                          initialize submodules in the clone\n",
            "    --recursive ...       alias of --recurse-submodules\n",
            "    -j, --jobs <n>        number of submodules cloned in parallel\n",
            "    --template <template-directory>\n",
            "                          directory from which templates will be used\n",
            "    --reference <repo>    reference repository\n",
            "    --reference-if-able <repo>\n",
            "                          reference repository\n",
            "    --dissociate          use --reference only while cloning\n",
            "    -o, --origin <name>   use <name> instead of 'origin' to track upstream\n",
            "    -b, --branch <branch>\n",
            "                          checkout <branch> instead of the remote's HEAD\n",
            "    -u, --upload-pack <path>\n",
            "                          path to git-upload-pack on the remote\n",
            "    --depth <depth>       create a shallow clone of that depth\n",
            "    --shallow-since <time>\n",
            "                          create a shallow clone since a specific time\n",
            "    --shallow-exclude <revision>\n",
            "                          deepen history of shallow clone, excluding rev\n",
            "    --single-branch       clone only one branch, HEAD or --branch\n",
            "    --no-tags             don't clone any tags, and make later fetches not to follow them\n",
            "    --shallow-submodules  any cloned submodules will be shallow\n",
            "    --separate-git-dir <gitdir>\n",
            "                          separate git dir from working tree\n",
            "    -c, --config <key=value>\n",
            "                          set config inside the new repository\n",
            "    --server-option <server-specific>\n",
            "                          option to transmit\n",
            "    -4, --ipv4            use IPv4 addresses only\n",
            "    -6, --ipv6            use IPv6 addresses only\n",
            "    --filter <args>       object filtering\n",
            "    --remote-submodules   any cloned submodules will use their remote-tracking branch\n",
            "    --sparse              initialize sparse-checkout file to include only files at root\n",
            "\n"
          ]
        }
      ],
      "source": [
        "!apt-get -qq -y install swig> /dev/null\n",
        "!apt-get install build-essential python-dev swig python-pygame subversion > /dev/null\n",
        "!git clone"
      ]
    },
    {
      "cell_type": "code",
      "execution_count": 5,
      "metadata": {
        "colab": {
          "base_uri": "https://localhost:8080/"
        },
        "id": "6VpEnq7AYwIR",
        "outputId": "95606f94-c9a6-421d-e757-2d9661e051cc"
      },
      "outputs": [
        {
          "output_type": "stream",
          "name": "stdout",
          "text": [
            "Reading package lists... Done\n",
            "Building dependency tree... Done\n",
            "Reading state information... Done\n",
            "E: Unable to locate package pygame\n"
          ]
        }
      ],
      "source": [
        "!apt-get install pygame"
      ]
    },
    {
      "cell_type": "code",
      "execution_count": 6,
      "metadata": {
        "colab": {
          "base_uri": "https://localhost:8080/"
        },
        "id": "1M66L4b1ZgPg",
        "outputId": "7e78d321-13c7-4597-ced2-aafd39219ea2"
      },
      "outputs": [
        {
          "output_type": "stream",
          "name": "stdout",
          "text": [
            "Requirement already satisfied: pip in /usr/local/lib/python3.10/dist-packages (23.2.1)\n",
            "\u001b[33mWARNING: Running pip as the 'root' user can result in broken permissions and conflicting behaviour with the system package manager. It is recommended to use a virtual environment instead: https://pip.pypa.io/warnings/venv\u001b[0m\u001b[33m\n",
            "\u001b[0m"
          ]
        }
      ],
      "source": [
        "!pip install --upgrade pip"
      ]
    },
    {
      "cell_type": "code",
      "execution_count": 7,
      "metadata": {
        "id": "648ssU6hf1LB"
      },
      "outputs": [],
      "source": [
        "from google.colab.patches import cv2_imshow\n",
        "import cv2\n",
        "import google.colab.patches as patches\n",
        "import gym\n",
        "import IPython.display as display\n",
        "import time"
      ]
    },
    {
      "cell_type": "code",
      "execution_count": 8,
      "metadata": {
        "colab": {
          "base_uri": "https://localhost:8080/",
          "height": 0
        },
        "id": "ait0DEcpSfDN",
        "outputId": "eb034019-8dcd-479b-89d9-a7e41e5a5087"
      },
      "outputs": [
        {
          "output_type": "stream",
          "name": "stderr",
          "text": [
            "WARNING:py.warnings:/usr/local/lib/python3.10/dist-packages/ipykernel/ipkernel.py:283: DeprecationWarning: `should_run_async` will not call `transform_cell` automatically in the future. Please pass the result to `transformed_cell` argument and any exception that happen during thetransform in `preprocessing_exc_tuple` in IPython 7.17 and above.\n",
            "  and should_run_async(code)\n",
            "\n"
          ]
        },
        {
          "output_type": "stream",
          "name": "stdout",
          "text": [
            "Requirement already satisfied: colabgymrender in /usr/local/lib/python3.10/dist-packages (1.1.0)\n",
            "Requirement already satisfied: moviepy in /usr/local/lib/python3.10/dist-packages (from colabgymrender) (1.0.3)\n",
            "Requirement already satisfied: decorator<5.0,>=4.0.2 in /usr/local/lib/python3.10/dist-packages (from moviepy->colabgymrender) (4.4.2)\n",
            "Requirement already satisfied: tqdm<5.0,>=4.11.2 in /usr/local/lib/python3.10/dist-packages (from moviepy->colabgymrender) (4.66.1)\n",
            "Requirement already satisfied: requests<3.0,>=2.8.1 in /usr/local/lib/python3.10/dist-packages (from moviepy->colabgymrender) (2.31.0)\n",
            "Requirement already satisfied: proglog<=1.0.0 in /usr/local/lib/python3.10/dist-packages (from moviepy->colabgymrender) (0.1.10)\n",
            "Requirement already satisfied: numpy>=1.17.3 in /usr/local/lib/python3.10/dist-packages (from moviepy->colabgymrender) (1.23.5)\n",
            "Requirement already satisfied: imageio<3.0,>=2.5 in /usr/local/lib/python3.10/dist-packages (from moviepy->colabgymrender) (2.5.0)\n",
            "Requirement already satisfied: imageio-ffmpeg>=0.2.0 in /usr/local/lib/python3.10/dist-packages (from moviepy->colabgymrender) (0.4.8)\n",
            "Requirement already satisfied: pillow in /usr/local/lib/python3.10/dist-packages (from imageio<3.0,>=2.5->moviepy->colabgymrender) (9.4.0)\n",
            "Requirement already satisfied: charset-normalizer<4,>=2 in /usr/local/lib/python3.10/dist-packages (from requests<3.0,>=2.8.1->moviepy->colabgymrender) (3.2.0)\n",
            "Requirement already satisfied: idna<4,>=2.5 in /usr/local/lib/python3.10/dist-packages (from requests<3.0,>=2.8.1->moviepy->colabgymrender) (3.4)\n",
            "Requirement already satisfied: urllib3<3,>=1.21.1 in /usr/local/lib/python3.10/dist-packages (from requests<3.0,>=2.8.1->moviepy->colabgymrender) (2.0.4)\n",
            "Requirement already satisfied: certifi>=2017.4.17 in /usr/local/lib/python3.10/dist-packages (from requests<3.0,>=2.8.1->moviepy->colabgymrender) (2023.7.22)\n",
            "\u001b[33mWARNING: Running pip as the 'root' user can result in broken permissions and conflicting behaviour with the system package manager. It is recommended to use a virtual environment instead: https://pip.pypa.io/warnings/venv\u001b[0m\u001b[33m\n",
            "\u001b[0mRequirement already satisfied: imageio==2.5 in /usr/local/lib/python3.10/dist-packages (2.5.0)\n",
            "Requirement already satisfied: numpy in /usr/local/lib/python3.10/dist-packages (from imageio==2.5) (1.23.5)\n",
            "Requirement already satisfied: pillow in /usr/local/lib/python3.10/dist-packages (from imageio==2.5) (9.4.0)\n",
            "\u001b[33mWARNING: Running pip as the 'root' user can result in broken permissions and conflicting behaviour with the system package manager. It is recommended to use a virtual environment instead: https://pip.pypa.io/warnings/venv\u001b[0m\u001b[33m\n",
            "\u001b[0mRequirement already satisfied: AutoROM in /usr/local/lib/python3.10/dist-packages (0.4.2)\n",
            "Collecting AutoROM\n",
            "  Using cached AutoROM-0.6.1-py3-none-any.whl (9.4 kB)\n",
            "Requirement already satisfied: click in /usr/local/lib/python3.10/dist-packages (from AutoROM) (8.1.7)\n",
            "Requirement already satisfied: requests in /usr/local/lib/python3.10/dist-packages (from AutoROM) (2.31.0)\n",
            "Requirement already satisfied: charset-normalizer<4,>=2 in /usr/local/lib/python3.10/dist-packages (from requests->AutoROM) (3.2.0)\n",
            "Requirement already satisfied: idna<4,>=2.5 in /usr/local/lib/python3.10/dist-packages (from requests->AutoROM) (3.4)\n",
            "Requirement already satisfied: urllib3<3,>=1.21.1 in /usr/local/lib/python3.10/dist-packages (from requests->AutoROM) (2.0.4)\n",
            "Requirement already satisfied: certifi>=2017.4.17 in /usr/local/lib/python3.10/dist-packages (from requests->AutoROM) (2023.7.22)\n",
            "Installing collected packages: AutoROM\n",
            "  Attempting uninstall: AutoROM\n",
            "    Found existing installation: AutoROM 0.4.2\n",
            "    Uninstalling AutoROM-0.4.2:\n",
            "      Successfully uninstalled AutoROM-0.4.2\n",
            "Successfully installed AutoROM-0.6.1\n",
            "\u001b[33mWARNING: Running pip as the 'root' user can result in broken permissions and conflicting behaviour with the system package manager. It is recommended to use a virtual environment instead: https://pip.pypa.io/warnings/venv\u001b[0m\u001b[33m\n",
            "\u001b[0m"
          ]
        },
        {
          "output_type": "display_data",
          "data": {
            "application/vnd.colab-display-data+json": {
              "pip_warning": {
                "packages": [
                  "AutoROM"
                ]
              }
            }
          },
          "metadata": {}
        },
        {
          "output_type": "stream",
          "name": "stdout",
          "text": [
            "AutoROM will download the Atari 2600 ROMs.\n",
            "They will be installed to:\n",
            "\t/usr/local/lib/python3.10/dist-packages/AutoROM/roms\n",
            "\n",
            "Existing ROMs will be overwritten.\n",
            "Requirement already satisfied: gym[accept-rom-license,atari] in /usr/local/lib/python3.10/dist-packages (0.25.2)\n",
            "Requirement already satisfied: numpy>=1.18.0 in /usr/local/lib/python3.10/dist-packages (from gym[accept-rom-license,atari]) (1.23.5)\n",
            "Requirement already satisfied: cloudpickle>=1.2.0 in /usr/local/lib/python3.10/dist-packages (from gym[accept-rom-license,atari]) (2.2.1)\n",
            "Requirement already satisfied: gym-notices>=0.0.4 in /usr/local/lib/python3.10/dist-packages (from gym[accept-rom-license,atari]) (0.0.8)\n",
            "Requirement already satisfied: ale-py~=0.7.5 in /usr/local/lib/python3.10/dist-packages (from gym[accept-rom-license,atari]) (0.7.5)\n",
            "Collecting autorom[accept-rom-license]~=0.4.2 (from gym[accept-rom-license,atari])\n",
            "  Using cached AutoROM-0.4.2-py3-none-any.whl (16 kB)\n",
            "Requirement already satisfied: importlib-resources in /usr/local/lib/python3.10/dist-packages (from ale-py~=0.7.5->gym[accept-rom-license,atari]) (6.0.1)\n",
            "Requirement already satisfied: click in /usr/local/lib/python3.10/dist-packages (from autorom[accept-rom-license]~=0.4.2->gym[accept-rom-license,atari]) (8.1.7)\n",
            "Requirement already satisfied: requests in /usr/local/lib/python3.10/dist-packages (from autorom[accept-rom-license]~=0.4.2->gym[accept-rom-license,atari]) (2.31.0)\n",
            "Requirement already satisfied: tqdm in /usr/local/lib/python3.10/dist-packages (from autorom[accept-rom-license]~=0.4.2->gym[accept-rom-license,atari]) (4.66.1)\n",
            "Requirement already satisfied: AutoROM.accept-rom-license in /usr/local/lib/python3.10/dist-packages (from autorom[accept-rom-license]~=0.4.2->gym[accept-rom-license,atari]) (0.6.1)\n",
            "Requirement already satisfied: charset-normalizer<4,>=2 in /usr/local/lib/python3.10/dist-packages (from requests->autorom[accept-rom-license]~=0.4.2->gym[accept-rom-license,atari]) (3.2.0)\n",
            "Requirement already satisfied: idna<4,>=2.5 in /usr/local/lib/python3.10/dist-packages (from requests->autorom[accept-rom-license]~=0.4.2->gym[accept-rom-license,atari]) (3.4)\n",
            "Requirement already satisfied: urllib3<3,>=1.21.1 in /usr/local/lib/python3.10/dist-packages (from requests->autorom[accept-rom-license]~=0.4.2->gym[accept-rom-license,atari]) (2.0.4)\n",
            "Requirement already satisfied: certifi>=2017.4.17 in /usr/local/lib/python3.10/dist-packages (from requests->autorom[accept-rom-license]~=0.4.2->gym[accept-rom-license,atari]) (2023.7.22)\n",
            "Installing collected packages: autorom\n",
            "  Attempting uninstall: autorom\n",
            "    Found existing installation: AutoROM 0.6.1\n",
            "    Uninstalling AutoROM-0.6.1:\n",
            "      Successfully uninstalled AutoROM-0.6.1\n",
            "Successfully installed autorom-0.4.2\n",
            "\u001b[33mWARNING: Running pip as the 'root' user can result in broken permissions and conflicting behaviour with the system package manager. It is recommended to use a virtual environment instead: https://pip.pypa.io/warnings/venv\u001b[0m\u001b[33m\n",
            "\u001b[0m"
          ]
        },
        {
          "output_type": "display_data",
          "data": {
            "application/vnd.colab-display-data+json": {
              "pip_warning": {
                "packages": [
                  "AutoROM"
                ]
              }
            }
          },
          "metadata": {}
        }
      ],
      "source": [
        "!apt-get install -y xvfb python-opengl ffmpeg > /dev/null 2>&1\n",
        "!pip install -U colabgymrender\n",
        "!pip install imageio==2.5\n",
        "!pip install --upgrade AutoROM\n",
        "!AutoROM --accept-license\n",
        "!pip install gym[atari,accept-rom-license]"
      ]
    },
    {
      "cell_type": "code",
      "execution_count": 9,
      "metadata": {
        "colab": {
          "base_uri": "https://localhost:8080/"
        },
        "id": "C8rRgYUHVGh0",
        "outputId": "4a5fa17e-c58b-41f4-9b68-be35e48c8ee8"
      },
      "outputs": [
        {
          "output_type": "stream",
          "name": "stdout",
          "text": [
            "Requirement already satisfied: renderlab in /usr/local/lib/python3.10/dist-packages (0.1.20230421184216)\n",
            "Requirement already satisfied: moviepy in /usr/local/lib/python3.10/dist-packages (from renderlab) (1.0.3)\n",
            "Requirement already satisfied: gymnasium in /usr/local/lib/python3.10/dist-packages (from renderlab) (0.29.1)\n",
            "Requirement already satisfied: numpy>=1.21.0 in /usr/local/lib/python3.10/dist-packages (from gymnasium->renderlab) (1.23.5)\n",
            "Requirement already satisfied: cloudpickle>=1.2.0 in /usr/local/lib/python3.10/dist-packages (from gymnasium->renderlab) (2.2.1)\n",
            "Requirement already satisfied: typing-extensions>=4.3.0 in /usr/local/lib/python3.10/dist-packages (from gymnasium->renderlab) (4.7.1)\n",
            "Requirement already satisfied: farama-notifications>=0.0.1 in /usr/local/lib/python3.10/dist-packages (from gymnasium->renderlab) (0.0.4)\n",
            "Requirement already satisfied: decorator<5.0,>=4.0.2 in /usr/local/lib/python3.10/dist-packages (from moviepy->renderlab) (4.4.2)\n",
            "Requirement already satisfied: tqdm<5.0,>=4.11.2 in /usr/local/lib/python3.10/dist-packages (from moviepy->renderlab) (4.66.1)\n",
            "Requirement already satisfied: requests<3.0,>=2.8.1 in /usr/local/lib/python3.10/dist-packages (from moviepy->renderlab) (2.31.0)\n",
            "Requirement already satisfied: proglog<=1.0.0 in /usr/local/lib/python3.10/dist-packages (from moviepy->renderlab) (0.1.10)\n",
            "Requirement already satisfied: imageio<3.0,>=2.5 in /usr/local/lib/python3.10/dist-packages (from moviepy->renderlab) (2.5.0)\n",
            "Requirement already satisfied: imageio-ffmpeg>=0.2.0 in /usr/local/lib/python3.10/dist-packages (from moviepy->renderlab) (0.4.8)\n",
            "Requirement already satisfied: pillow in /usr/local/lib/python3.10/dist-packages (from imageio<3.0,>=2.5->moviepy->renderlab) (9.4.0)\n",
            "Requirement already satisfied: charset-normalizer<4,>=2 in /usr/local/lib/python3.10/dist-packages (from requests<3.0,>=2.8.1->moviepy->renderlab) (3.2.0)\n",
            "Requirement already satisfied: idna<4,>=2.5 in /usr/local/lib/python3.10/dist-packages (from requests<3.0,>=2.8.1->moviepy->renderlab) (3.4)\n",
            "Requirement already satisfied: urllib3<3,>=1.21.1 in /usr/local/lib/python3.10/dist-packages (from requests<3.0,>=2.8.1->moviepy->renderlab) (2.0.4)\n",
            "Requirement already satisfied: certifi>=2017.4.17 in /usr/local/lib/python3.10/dist-packages (from requests<3.0,>=2.8.1->moviepy->renderlab) (2023.7.22)\n",
            "\u001b[33mWARNING: Running pip as the 'root' user can result in broken permissions and conflicting behaviour with the system package manager. It is recommended to use a virtual environment instead: https://pip.pypa.io/warnings/venv\u001b[0m\u001b[33m\n",
            "\u001b[0m"
          ]
        }
      ],
      "source": [
        "!pip install renderlab"
      ]
    },
    {
      "cell_type": "code",
      "execution_count": 10,
      "metadata": {
        "id": "EUwuofesWzYJ"
      },
      "outputs": [],
      "source": [
        "import random\n",
        "import gym\n",
        "import numpy as np\n",
        "from collections import deque\n",
        "import pygame\n",
        "from keras.models import Sequential\n",
        "from keras.layers import Dense\n",
        "from keras.optimizers import Adam\n",
        "import os"
      ]
    },
    {
      "cell_type": "markdown",
      "metadata": {
        "id": "2EFWCge3E9p6"
      },
      "source": [
        "# 2. the code starts here"
      ]
    },
    {
      "cell_type": "code",
      "execution_count": 15,
      "metadata": {
        "id": "2omyKZOuW6N8"
      },
      "outputs": [],
      "source": [
        "env = gym.make('MountainCar-v0', render_mode='human')\n",
        "(state) = env.reset()\n",
        "timeStep=1000\n",
        "batch_size = 50\n",
        "n_episodes = 6000"
      ]
    },
    {
      "cell_type": "code",
      "execution_count": 16,
      "metadata": {
        "id": "YrbIrBToW-aY"
      },
      "outputs": [],
      "source": [
        "state_size = env.observation_space.shape[0]\n",
        "action_size = env.action_space.n"
      ]
    },
    {
      "cell_type": "code",
      "execution_count": 17,
      "metadata": {
        "id": "6_PtEre-vqFC"
      },
      "outputs": [],
      "source": [
        "output_dir = 'model_output/MountainCar-v0/'\n",
        "if not os.path.exists(output_dir):\n",
        "    os.makedirs(output_dir)"
      ]
    },
    {
      "cell_type": "code",
      "execution_count": 18,
      "metadata": {
        "id": "4Gvdhz4iv5SI"
      },
      "outputs": [],
      "source": [
        "class DQNAgent:\n",
        "    def __init__(self, state_size, action_size, init_epsilon):\n",
        "        self.state_size = state_size\n",
        "        self.action_size = action_size\n",
        "        self.memory = deque(maxlen=2000)\n",
        "\n",
        "        self.gamma = 0.95\n",
        "\n",
        "        self.epsilon = init_epsilon\n",
        "\n",
        "        self.epsilon_decay = 0.9992\n",
        "\n",
        "        self.epsilon_min = 0.01\n",
        "\n",
        "        self.learning_rate = 0.001\n",
        "\n",
        "        self.model = self._build_model()\n",
        "\n",
        "    def _build_model(self):\n",
        "        model = Sequential()\n",
        "        model.add(Dense(24, input_dim=self.state_size, activation='relu'))\n",
        "        model.add(Dense(24, activation='relu'))\n",
        "        model.add(Dense(self.action_size, activation='linear'))\n",
        "        model.compile(loss='mse', optimizer=Adam(lr=self.learning_rate))\n",
        "        return model\n",
        "\n",
        "    def remember(self, state, action, reward, next_state, done):\n",
        "        self.memory.append((state, action, reward, next_state, done))\n",
        "\n",
        "    def act(self, state):\n",
        "        if np.random.rand() <= self.epsilon:\n",
        "            return random.randrange(self.action_size)\n",
        "\n",
        "        act_values = self.model.predict(state)\n",
        "        return np.argmax(act_values[0])\n",
        "\n",
        "    def replay(self, batch_size):\n",
        "        minibatch = random.sample(self.memory, batch_size)\n",
        "\n",
        "        for state, action, reward, next_state, done in minibatch:\n",
        "            target = reward\n",
        "\n",
        "            if not (done or terminated):\n",
        "                target = (reward + self.gamma *np.amax(self.model.predict(next_state)[0]))\n",
        "                target_f = self.model.predict(state)\n",
        "                target_f[0][action] = target\n",
        "                self.model.fit(state, target_f, epochs=1, verbose=0)\n",
        "\n",
        "        if self.epsilon > self.epsilon_min:\n",
        "            self.epsilon *= self.epsilon_decay\n",
        "\n",
        "    def load(self, name):\n",
        "        self.model.load_weights(name)\n",
        "\n",
        "    def save(self, name):\n",
        "        self.model.save_weights(name)\n",
        "\n",
        "    def newreward(self, pos, speed):\n",
        "        if (pos >= 0.5):\n",
        "            return 1000\n",
        "        else:\n",
        "            return (((pos+1.2)**3/5.832)+((speed**2)/0.0049))*2 - 1\n"
      ]
    },
    {
      "cell_type": "markdown",
      "metadata": {
        "id": "oeKF218ciAxp"
      },
      "source": [
        "# 3. load data"
      ]
    },
    {
      "cell_type": "markdown",
      "metadata": {
        "id": "HYiKbQLxtxqK"
      },
      "source": [
        "***load your files***\n",
        "\n",
        "---\n",
        "\n"
      ]
    },
    {
      "cell_type": "code",
      "execution_count": 14,
      "metadata": {
        "colab": {
          "base_uri": "https://localhost:8080/"
        },
        "id": "WhuNy2xLhQl-",
        "outputId": "e5398981-3a6b-4a1a-ea6b-2e225d22ff34"
      },
      "outputs": [
        {
          "output_type": "execute_result",
          "data": {
            "text/plain": [
              "['.config', 'model_output', 'my_memory_data.pkl', 'sample_data']"
            ]
          },
          "metadata": {},
          "execution_count": 14
        }
      ],
      "source": [
        "# Check if the file exists in the current directory\n",
        "import os\n",
        "os.listdir()"
      ]
    },
    {
      "cell_type": "code",
      "execution_count": null,
      "metadata": {
        "id": "GP4B8ro9hTHx"
      },
      "outputs": [],
      "source": [
        "import pickle\n",
        "\n",
        "# Specify the path to the file you want to load\n",
        "file_path = 'my_memory_data.pkl'\n",
        "\n",
        "# Load the variables from the file\n",
        "with open(file_path, 'rb') as file:\n",
        "    loaded_data = pickle.load(file)\n",
        "\n",
        "# Now, 'loaded_data' contains the variables you saved\n",
        "# print(loaded_data)"
      ]
    },
    {
      "cell_type": "code",
      "execution_count": 29,
      "metadata": {
        "id": "ouQVXQIAu069",
        "colab": {
          "base_uri": "https://localhost:8080/"
        },
        "outputId": "3a89518c-eb3c-4b90-9e78-9c63e16dc90d"
      },
      "outputs": [
        {
          "output_type": "stream",
          "name": "stderr",
          "text": [
            "WARNING:py.warnings:/usr/local/lib/python3.10/dist-packages/keras/optimizers/legacy/adam.py:117: UserWarning: The `lr` argument is deprecated, use `learning_rate` instead.\n",
            "  super().__init__(name, **kwargs)\n",
            "\n"
          ]
        }
      ],
      "source": [
        "agent = DQNAgent(state_size, action_size, 0.060257767174608595)\n",
        "agent.load(output_dir + 'weights_0050' + '.hdf5')\n",
        "init_e = 2100"
      ]
    },
    {
      "cell_type": "code",
      "execution_count": null,
      "metadata": {
        "id": "nefjuN97hUsQ"
      },
      "outputs": [],
      "source": [
        "# Access a specific variable from the loaded data\n",
        "agent.memory = loaded_data['example_variable']\n",
        "\n",
        "# Use the loaded variable in your code\n",
        "# print(f\"Loaded variable: {agent.memory}\")"
      ]
    },
    {
      "cell_type": "markdown",
      "metadata": {
        "id": "pI91WeYWjo8s"
      },
      "source": [
        "# 4. training my agent"
      ]
    },
    {
      "cell_type": "code",
      "execution_count": null,
      "metadata": {
        "id": "FZ-3Vy8lzMi9"
      },
      "outputs": [],
      "source": [
        "# agent = DQNAgent(state_size, action_size)\n",
        "done = False\n",
        "terminated = False\n",
        "wins, episode = 0, 0\n",
        "n_episodes = init_e + 151\n",
        "for e in range(init_e, n_episodes):\n",
        "    state = env.reset()\n",
        "    state = np.reshape(state, [1, state_size])\n",
        "    done = False\n",
        "    terminated = False\n",
        "    end = done or terminated\n",
        "    tot_reward, reward = 0, 0\n",
        "\n",
        "    while not done:\n",
        "\n",
        "        env.render()\n",
        "\n",
        "        action = agent.act(state)\n",
        "        next_state, reward, done, info = env.step(action)\n",
        "        position = next_state[0]\n",
        "        velocity = next_state[1]\n",
        "        reward = agent.newreward(position, velocity)\n",
        "        next_state = np.reshape(next_state, [1, state_size])\n",
        "        agent.remember(state, action, reward, next_state, done)\n",
        "        state = next_state\n",
        "        tot_reward += reward\n",
        "\n",
        "        if done :\n",
        "            print(\"episode: {}/{}, score: {}, e: {: .2}\".format(e, n_episodes-1, tot_reward, agent.epsilon))\n",
        "            if tot_reward > 100:\n",
        "              wins += 1\n",
        "              print(\"You Win\")\n",
        "            episode += 1\n",
        "            print(f\"wins:{wins}/{episode}\")\n",
        "            break\n",
        "\n",
        "    if len(agent.memory) > batch_size:\n",
        "        agent.replay(batch_size)\n",
        "\n",
        "    if e % 50 == 0:\n",
        "        agent.save(output_dir + \"weights_\" + '{:05d}'.format(e) + \".hdf5\")\n",
        "\n",
        "pygame.quit()\n"
      ]
    },
    {
      "cell_type": "markdown",
      "metadata": {
        "id": "8QoA9LyyhNOt"
      },
      "source": [
        "# 5. save data"
      ]
    },
    {
      "cell_type": "code",
      "execution_count": 19,
      "metadata": {
        "id": "uRelO5kMBQUW"
      },
      "outputs": [],
      "source": [
        "agent.save(output_dir + \"weights_\" + '{:05d}'.format(e) + \".hdf5\")"
      ]
    },
    {
      "cell_type": "code",
      "execution_count": 20,
      "metadata": {
        "colab": {
          "base_uri": "https://localhost:8080/"
        },
        "id": "qrpRv704Beij",
        "outputId": "aa7fe8c6-b537-45c9-c841-9d128bc8a35d"
      },
      "outputs": [
        {
          "output_type": "execute_result",
          "data": {
            "text/plain": [
              "0.05339852554333118"
            ]
          },
          "metadata": {},
          "execution_count": 20
        }
      ],
      "source": [
        "agent.epsilon"
      ]
    },
    {
      "cell_type": "code",
      "execution_count": 21,
      "metadata": {
        "colab": {
          "base_uri": "https://localhost:8080/"
        },
        "id": "W-VrN3gZjELc",
        "outputId": "78f2a97b-4ecb-4359-a0bf-1ec9bf3b7a99"
      },
      "outputs": [
        {
          "output_type": "execute_result",
          "data": {
            "text/plain": [
              "122"
            ]
          },
          "metadata": {},
          "execution_count": 21
        }
      ],
      "source": [
        "wins"
      ]
    },
    {
      "cell_type": "code",
      "execution_count": 22,
      "metadata": {
        "id": "aPduWYNLe1rP"
      },
      "outputs": [],
      "source": [
        "save_memory = agent.memory"
      ]
    },
    {
      "cell_type": "code",
      "execution_count": 23,
      "metadata": {
        "id": "0o5F-BlPgGyS"
      },
      "outputs": [],
      "source": [
        "import pickle\n",
        "\n",
        "# Your data to be saved\n",
        "data = {'example_variable': save_memory}\n",
        "\n",
        "# Save data to a file in the Colab environment\n",
        "with open('my_memory_data.pkl', 'wb') as file:\n",
        "    pickle.dump(data, file)\n"
      ]
    },
    {
      "cell_type": "markdown",
      "metadata": {
        "id": "boTKi5di_k05"
      },
      "source": [
        "# 6. test\n"
      ]
    },
    {
      "cell_type": "code",
      "execution_count": null,
      "metadata": {
        "id": "TV8U0LSCVMld"
      },
      "outputs": [],
      "source": [
        "import gymnasium as gym\n",
        "import renderlab as rl\n",
        "\n",
        "env = gym.make(\"MountainCar-v0\", render_mode = \"rgb_array\")\n",
        "env = rl.RenderFrame(env, \"./output\")\n",
        "\n",
        "observation, info = env.reset()\n",
        "\n",
        "while True:\n",
        "  action = env.action_space.sample()\n",
        "  observation, reward, terminated, truncated, info = env.step(action)\n",
        "\n",
        "  if terminated or truncated:\n",
        "    break\n",
        "\n",
        "env.play()"
      ]
    },
    {
      "cell_type": "code",
      "execution_count": 113,
      "metadata": {
        "id": "x6tKaiivKZgR"
      },
      "outputs": [],
      "source": [
        "agent.load(output_dir + 'weights_02150' + '.hdf5')"
      ]
    },
    {
      "cell_type": "code",
      "execution_count": 114,
      "metadata": {
        "colab": {
          "base_uri": "https://localhost:8080/",
          "height": 1000
        },
        "id": "pBRb4aGDxRDS",
        "outputId": "4f3bb367-b66c-424d-b963-e1d6d8af6431"
      },
      "outputs": [
        {
          "output_type": "stream",
          "name": "stdout",
          "text": [
            "1/1 [==============================] - 0s 27ms/step\n",
            "1/1 [==============================] - 0s 25ms/step\n",
            "1/1 [==============================] - 0s 31ms/step\n",
            "1/1 [==============================] - 0s 25ms/step\n",
            "1/1 [==============================] - 0s 24ms/step\n",
            "1/1 [==============================] - 0s 26ms/step\n",
            "1/1 [==============================] - 0s 23ms/step\n",
            "1/1 [==============================] - 0s 26ms/step\n",
            "1/1 [==============================] - 0s 35ms/step\n",
            "1/1 [==============================] - 0s 24ms/step\n",
            "1/1 [==============================] - 0s 32ms/step\n",
            "1/1 [==============================] - 0s 25ms/step\n",
            "1/1 [==============================] - 0s 24ms/step\n",
            "1/1 [==============================] - 0s 23ms/step\n",
            "1/1 [==============================] - 0s 24ms/step\n",
            "1/1 [==============================] - 0s 24ms/step\n",
            "1/1 [==============================] - 0s 33ms/step\n",
            "1/1 [==============================] - 0s 27ms/step\n",
            "1/1 [==============================] - 0s 29ms/step\n",
            "1/1 [==============================] - 0s 27ms/step\n",
            "1/1 [==============================] - 0s 28ms/step\n",
            "1/1 [==============================] - 0s 27ms/step\n",
            "1/1 [==============================] - 0s 26ms/step\n",
            "1/1 [==============================] - 0s 25ms/step\n",
            "1/1 [==============================] - 0s 29ms/step\n",
            "1/1 [==============================] - 0s 24ms/step\n",
            "1/1 [==============================] - 0s 23ms/step\n",
            "1/1 [==============================] - 0s 21ms/step\n",
            "1/1 [==============================] - 0s 21ms/step\n",
            "1/1 [==============================] - 0s 21ms/step\n",
            "1/1 [==============================] - 0s 23ms/step\n",
            "1/1 [==============================] - 0s 24ms/step\n",
            "1/1 [==============================] - 0s 23ms/step\n",
            "1/1 [==============================] - 0s 23ms/step\n",
            "1/1 [==============================] - 0s 24ms/step\n",
            "1/1 [==============================] - 0s 24ms/step\n",
            "1/1 [==============================] - 0s 25ms/step\n",
            "1/1 [==============================] - 0s 26ms/step\n",
            "1/1 [==============================] - 0s 40ms/step\n",
            "1/1 [==============================] - 0s 45ms/step\n",
            "1/1 [==============================] - 0s 43ms/step\n",
            "1/1 [==============================] - 0s 94ms/step\n",
            "1/1 [==============================] - 0s 42ms/step\n",
            "1/1 [==============================] - 0s 56ms/step\n",
            "1/1 [==============================] - 0s 46ms/step\n",
            "1/1 [==============================] - 0s 44ms/step\n",
            "1/1 [==============================] - 0s 41ms/step\n",
            "1/1 [==============================] - 0s 86ms/step\n",
            "1/1 [==============================] - 0s 133ms/step\n",
            "1/1 [==============================] - 0s 82ms/step\n",
            "1/1 [==============================] - 0s 123ms/step\n",
            "1/1 [==============================] - 0s 126ms/step\n",
            "1/1 [==============================] - 0s 98ms/step\n",
            "1/1 [==============================] - 0s 148ms/step\n",
            "1/1 [==============================] - 0s 184ms/step\n",
            "1/1 [==============================] - 0s 82ms/step\n",
            "1/1 [==============================] - 0s 68ms/step\n",
            "1/1 [==============================] - 0s 74ms/step\n",
            "1/1 [==============================] - 0s 56ms/step\n",
            "1/1 [==============================] - 0s 75ms/step\n",
            "1/1 [==============================] - 0s 78ms/step\n",
            "1/1 [==============================] - 0s 56ms/step\n",
            "1/1 [==============================] - 0s 58ms/step\n",
            "1/1 [==============================] - 0s 49ms/step\n",
            "1/1 [==============================] - 0s 49ms/step\n",
            "1/1 [==============================] - 0s 40ms/step\n",
            "1/1 [==============================] - 0s 54ms/step\n",
            "1/1 [==============================] - 0s 56ms/step\n",
            "1/1 [==============================] - 0s 41ms/step\n",
            "1/1 [==============================] - 0s 37ms/step\n",
            "1/1 [==============================] - 0s 48ms/step\n",
            "1/1 [==============================] - 0s 48ms/step\n",
            "1/1 [==============================] - 0s 58ms/step\n",
            "1/1 [==============================] - 0s 115ms/step\n",
            "1/1 [==============================] - 0s 87ms/step\n",
            "1/1 [==============================] - 0s 22ms/step\n",
            "1/1 [==============================] - 0s 27ms/step\n",
            "1/1 [==============================] - 0s 24ms/step\n",
            "1/1 [==============================] - 0s 23ms/step\n",
            "1/1 [==============================] - 0s 22ms/step\n",
            "1/1 [==============================] - 0s 30ms/step\n",
            "1/1 [==============================] - 0s 22ms/step\n",
            "1/1 [==============================] - 0s 22ms/step\n",
            "1/1 [==============================] - 0s 21ms/step\n",
            "1/1 [==============================] - 0s 21ms/step\n",
            "1/1 [==============================] - 0s 24ms/step\n",
            "1/1 [==============================] - 0s 24ms/step\n",
            "1/1 [==============================] - 0s 24ms/step\n",
            "1/1 [==============================] - 0s 26ms/step\n",
            "1/1 [==============================] - 0s 29ms/step\n",
            "1/1 [==============================] - 0s 25ms/step\n",
            "1/1 [==============================] - 0s 21ms/step\n",
            "1/1 [==============================] - 0s 25ms/step\n",
            "1/1 [==============================] - 0s 23ms/step\n",
            "1/1 [==============================] - 0s 28ms/step\n",
            "1/1 [==============================] - 0s 24ms/step\n",
            "1/1 [==============================] - 0s 24ms/step\n",
            "1/1 [==============================] - 0s 25ms/step\n",
            "1/1 [==============================] - 0s 52ms/step\n",
            "1/1 [==============================] - 0s 44ms/step\n",
            "1/1 [==============================] - 0s 42ms/step\n",
            "1/1 [==============================] - 0s 39ms/step\n",
            "1/1 [==============================] - 0s 47ms/step\n",
            "1/1 [==============================] - 0s 31ms/step\n",
            "1/1 [==============================] - 0s 33ms/step\n",
            "1/1 [==============================] - 0s 33ms/step\n",
            "1/1 [==============================] - 0s 35ms/step\n",
            "1/1 [==============================] - 0s 23ms/step\n",
            "1/1 [==============================] - 0s 27ms/step\n",
            "1/1 [==============================] - 0s 21ms/step\n",
            "1/1 [==============================] - 0s 21ms/step\n",
            "1/1 [==============================] - 0s 21ms/step\n",
            "1/1 [==============================] - 0s 21ms/step\n",
            "1/1 [==============================] - 0s 24ms/step\n",
            "1/1 [==============================] - 0s 24ms/step\n",
            "1/1 [==============================] - 0s 29ms/step\n",
            "1/1 [==============================] - 0s 27ms/step\n",
            "1/1 [==============================] - 0s 27ms/step\n",
            "1/1 [==============================] - 0s 24ms/step\n",
            "1/1 [==============================] - 0s 24ms/step\n",
            "1/1 [==============================] - 0s 23ms/step\n",
            "1/1 [==============================] - 0s 23ms/step\n",
            "1/1 [==============================] - 0s 23ms/step\n",
            "1/1 [==============================] - 0s 24ms/step\n",
            "1/1 [==============================] - 0s 26ms/step\n",
            "1/1 [==============================] - 0s 25ms/step\n",
            "1/1 [==============================] - 0s 27ms/step\n",
            "1/1 [==============================] - 0s 29ms/step\n",
            "1/1 [==============================] - 0s 24ms/step\n",
            "1/1 [==============================] - 0s 25ms/step\n",
            "1/1 [==============================] - 0s 23ms/step\n",
            "1/1 [==============================] - 0s 32ms/step\n",
            "1/1 [==============================] - 0s 32ms/step\n",
            "1/1 [==============================] - 0s 26ms/step\n",
            "1/1 [==============================] - 0s 26ms/step\n",
            "1/1 [==============================] - 0s 23ms/step\n",
            "1/1 [==============================] - 0s 21ms/step\n",
            "1/1 [==============================] - 0s 22ms/step\n",
            "1/1 [==============================] - 0s 24ms/step\n",
            "1/1 [==============================] - 0s 25ms/step\n",
            "1/1 [==============================] - 0s 21ms/step\n",
            "1/1 [==============================] - 0s 26ms/step\n",
            "1/1 [==============================] - 0s 27ms/step\n",
            "1/1 [==============================] - 0s 29ms/step\n",
            "1/1 [==============================] - 0s 23ms/step\n",
            "1/1 [==============================] - 0s 28ms/step\n",
            "1/1 [==============================] - 0s 23ms/step\n",
            "1/1 [==============================] - 0s 21ms/step\n",
            "1/1 [==============================] - 0s 27ms/step\n",
            "1/1 [==============================] - 0s 26ms/step\n",
            "1/1 [==============================] - 0s 28ms/step\n",
            "1/1 [==============================] - 0s 26ms/step\n",
            "1/1 [==============================] - 0s 27ms/step\n",
            "1/1 [==============================] - 0s 23ms/step\n",
            "1/1 [==============================] - 0s 34ms/step\n",
            "1/1 [==============================] - 0s 25ms/step\n",
            "1/1 [==============================] - 0s 27ms/step\n",
            "1/1 [==============================] - 0s 35ms/step\n",
            "1/1 [==============================] - 0s 35ms/step\n",
            "1/1 [==============================] - 0s 38ms/step\n",
            "1/1 [==============================] - 0s 58ms/step\n",
            "1/1 [==============================] - 0s 40ms/step\n",
            "1/1 [==============================] - 0s 41ms/step\n",
            "1/1 [==============================] - 0s 40ms/step\n",
            "1/1 [==============================] - 0s 36ms/step\n",
            "1/1 [==============================] - 0s 36ms/step\n",
            "1/1 [==============================] - 0s 38ms/step\n",
            "1/1 [==============================] - 0s 37ms/step\n",
            "1/1 [==============================] - 0s 38ms/step\n",
            "1/1 [==============================] - 0s 41ms/step\n",
            "1/1 [==============================] - 0s 34ms/step\n",
            "1/1 [==============================] - 0s 39ms/step\n",
            "1/1 [==============================] - 0s 35ms/step\n",
            "1/1 [==============================] - 0s 34ms/step\n",
            "1/1 [==============================] - 0s 43ms/step\n",
            "1/1 [==============================] - 0s 45ms/step\n",
            "1/1 [==============================] - 0s 40ms/step\n",
            "1/1 [==============================] - 0s 42ms/step\n",
            "1/1 [==============================] - 0s 38ms/step\n",
            "1/1 [==============================] - 0s 43ms/step\n",
            "1/1 [==============================] - 0s 36ms/step\n",
            "1/1 [==============================] - 0s 37ms/step\n",
            "1/1 [==============================] - 0s 39ms/step\n",
            "1/1 [==============================] - 0s 23ms/step\n",
            "1/1 [==============================] - 0s 26ms/step\n",
            "1/1 [==============================] - 0s 26ms/step\n",
            "1/1 [==============================] - 0s 28ms/step\n",
            "1/1 [==============================] - 0s 25ms/step\n",
            "1/1 [==============================] - 0s 27ms/step\n",
            "1/1 [==============================] - 0s 27ms/step\n",
            "1/1 [==============================] - 0s 25ms/step\n",
            "1/1 [==============================] - 0s 35ms/step\n",
            "1/1 [==============================] - 0s 20ms/step\n",
            "1/1 [==============================] - 0s 21ms/step\n",
            "1/1 [==============================] - 0s 21ms/step\n",
            "1/1 [==============================] - 0s 24ms/step\n",
            "1/1 [==============================] - 0s 31ms/step\n",
            "1/1 [==============================] - 0s 30ms/step\n",
            "1/1 [==============================] - 0s 39ms/step\n",
            "1/1 [==============================] - 0s 48ms/step\n",
            "Moviepy - Building video temp-{start}.mp4.\n",
            "Moviepy - Writing video temp-{start}.mp4\n",
            "\n"
          ]
        },
        {
          "output_type": "stream",
          "name": "stderr",
          "text": []
        },
        {
          "output_type": "stream",
          "name": "stdout",
          "text": [
            "Moviepy - Done !\n",
            "Moviepy - video ready temp-{start}.mp4\n"
          ]
        },
        {
          "output_type": "display_data",
          "data": {
            "text/plain": [
              "<IPython.core.display.Video object>"
            ],
            "text/html": [
              "<video controls  >\n",
              " <source src=\"data:video/mp4;base64,AAAAIGZ0eXBpc29tAAACAGlzb21pc28yYXZjMW1wNDEAAAAIZnJlZQAAb5ptZGF0AAACrgYF//+q3EXpvebZSLeWLNgg2SPu73gyNjQgLSBjb3JlIDE1OSByMjk5MSAxNzcxYjU1IC0gSC4yNjQvTVBFRy00IEFWQyBjb2RlYyAtIENvcHlsZWZ0IDIwMDMtMjAxOSAtIGh0dHA6Ly93d3cudmlkZW9sYW4ub3JnL3gyNjQuaHRtbCAtIG9wdGlvbnM6IGNhYmFjPTEgcmVmPTMgZGVibG9jaz0xOjA6MCBhbmFseXNlPTB4MzoweDExMyBtZT1oZXggc3VibWU9NyBwc3k9MSBwc3lfcmQ9MS4wMDowLjAwIG1peGVkX3JlZj0xIG1lX3JhbmdlPTE2IGNocm9tYV9tZT0xIHRyZWxsaXM9MSA4eDhkY3Q9MSBjcW09MCBkZWFkem9uZT0yMSwxMSBmYXN0X3Bza2lwPTEgY2hyb21hX3FwX29mZnNldD0tMiB0aHJlYWRzPTMgbG9va2FoZWFkX3RocmVhZHM9MSBzbGljZWRfdGhyZWFkcz0wIG5yPTAgZGVjaW1hdGU9MSBpbnRlcmxhY2VkPTAgYmx1cmF5X2NvbXBhdD0wIGNvbnN0cmFpbmVkX2ludHJhPTAgYmZyYW1lcz0zIGJfcHlyYW1pZD0yIGJfYWRhcHQ9MSBiX2JpYXM9MCBkaXJlY3Q9MSB3ZWlnaHRiPTEgb3Blbl9nb3A9MCB3ZWlnaHRwPTIga2V5aW50PTI1MCBrZXlpbnRfbWluPTI1IHNjZW5lY3V0PTQwIGludHJhX3JlZnJlc2g9MCByY19sb29rYWhlYWQ9NDAgcmM9Y3JmIG1idHJlZT0xIGNyZj0yMy4wIHFjb21wPTAuNjAgcXBtaW49MCBxcG1heD02OSBxcHN0ZXA9NCBpcF9yYXRpbz0xLjQwIGFxPTE6MS4wMACAAAAOCmWIhAAr//7Y5/Msq1xA0DVUuHVl7uFSgaMoZ2nkvUzAAAADAAADAABo/Ot9/srZ0dc2TAAADNAlrD2ajoAyREKrGoBrmFT/jbr+uKV63H+jYfwGJbVbOn0m1S65oHQGpImqAsySWWW5d9HhpxanDBmZZ4hwTZLG5zws+xg1ZHx6j6STz4DqXbkjtj3+BkQFNtJD/LVwfkW6Q1ZyYS5LqWHgxTbDafHmxytMOgl2OiwH+ipXzwuuyhKz4aqAvG/R51rllCin0WqN1BvyulgAJvuWES6pcBaahQ8kjJcvXTs2FQNwlCiejhKF2f6DxTxMC9x7Fq8ScVJXWWN0F+ULtMhKkployw9zRywa6dFRIB4g2vIeFxXVVHY05adbe0p9zi6uVuA6oc/k/yy+4B1upje23oG8MDq9eAZdfd3mrB4453dtBWjYQUzqOIw9sbShslNlO3szVnzmG6AuyCIZRZAU8iSg97YN5LEQDNsSdhk2O2Qykyyk5mJLyrLLuVDYS8vy0y356/FQyKN2JYuyAEvSCTQ1m4ByXG3vh6APai/Td0OkoBiOh3eSz6TfauSbc1nbjgUgOUlF6f28bq27RGk5D5Ylj4wM8IChBPln/Ll6lkMX12yMNdzJnaScs97BqF9BieRGrcxYB44CzS48gzYAjntUY19oNAV9XVRn2SZPmyuVKE+hSJ+gHvDfUBuX4aoH4Y5suNMwHD+Li7dz5/8ypCFXZ9HnLq6iSie0/GA43kkydtzRBW9fwtGy6FtT6bKd+Zf5aoB3auO08n282j5/f2BNxtGEeUi++ydnUf5LPxtepOVFqIG+HUMSIlT4WJL+1FKTEiyJE1BsIud8KhvfPfE2Dj1L9xSD1UGZg1EKMgRtA+0UwtnwwDQLduZwR5kgH6Uev4ZXC4qvgpodYAAAAwAAXUMmffNUWjvKIFXMOWV5wzPloNRcdtHYt/kaJ5OJjAeSZ83W+5gZGzD9gB8zCmD8v7Iaohu7lBakLBewe+WHONcXldVAt+DE+RO7A724ySkuLyXTEtKuX1OEBXwAAjIxAAykDAvKsgdAsJTHmG4+uAkQ//nc14k1G3fG7Ks6JaqzYsMBBve0CFx5JP/oGIAA84GaUh9aP5W68aZT8YT5raZU/f7672qt9JtGNEW9IOqLr3ldRD6415UYLtJMZX3OtZOsUo6YxSbk9OcR/F0d4raBnwv/U72fb7zKKV0j5BdxDD50ApHx1UGkh0+EBCUWqUVKwn6Gx+0OBfPHhfIuyVq/gKY6UoQHMd8c6Ch3fK6ROFM94lxuL2WiWS/o2REHP+nFN6FsSW1CfHMMSwE4fe7ivJvVC6bxBa0B/2QF5f4VRcEpbiQEpgDAISEweYZoleJfeaWwUe2fvYK5EHRi0779rjDf2hzlprMlkA+NQxmYCNeVF4JIygxs1Jgab8clYBWenqXAopMCSnMgfqU/gCzuuORriGX+ZZq3UfPGlrgmle2r8zKphaMKeJOxGLI9wCQwKPWXxsUomRbGUMsi3BfhpU1DnGZK6LwPJv7UCsdVBAnePRHFkwE/BDAFcTk0IHMjrE82H4uFhUREs74eDR+LSqDKWXf1OJMcqdvXx8OuNUNZbBRN+4gRyOuDiZkAY6adXVkwita1KhioQQF+6CPZymDpt5ZQcLGZR/0XTn2uj0P0vsEIz6t8bqShu24muiQC9GDPACJUijluGbr55LQxMEXn3O49snqIGu+gPP1/q7y999lvQ/+zD7AFPH77tjQmzuQrqNMxb+xuQdk2YTo/Xk3VjpvvuPeV5V5RZpWcT56sBZfyksAfLKTt3of5LScuha0bERNOAXGBDo+51HLCkjyEVa+N40s1F5hPdRaxgNnQ2gmppL4j6YmULSCOUTYKm4TLVg1JJ3C9eEDhylu61xk2Fyc/yKE9RQzrZeRGTHLyyw5XGTfWn7XVXku/e03MXR0MBKXQSuT9jMAORL46jzCS+hO+4U+X6UvXVnPo5BXy98WtehDbSE0waE6pAoOXBTbyj2DP77BmDxCj7EEGMs3K7q9xh+fBYo2se1UV9GYt1kHkOmuM0r0q1DNC/38pyWq9CRmVscTBrYQSlFYFcZBU7EZDnAnyLdHf1cIBEdNrYjmXFKTsGzbGk12OkHJLwJjByqek9ekxH4P8ARMTGWPN2aH80hSn3QoJBP9bPEHsOgb/OR10taqjLtRl1ziX7ZkwNKlLfwPO39hp5BNPga8yC9ccOuNCarNhBSn99WloUh6HLXFzDM0xeP/70GTPFuPKnh0pGxBt2kgYX9ab2Jlyl4kcyYrHiELhsdhHOB5bA+h/EX8ZPjEvk8I3mUDfF3u4rk3hK7dzwDqw+6BgHWUBQKGTRnVhSNLNa0PjfVykyVMcLkHLDJvKqr+3a6V28b9mwB45nkvHIMmHqQ/7I5B8LxaVFQUCXCxzUvje7zXfzoUvs8/cFO6MDRfW/5KShuFVr5VvQeKOt9c/sGDjr4OgvTgH/CSF8K1HNbABIXpr09vDGaNafsCwrpDhSrxTZ3Tzi/pBXUo03z5R0Y/vK9bMp2cAE32Q8h4roWsBkMPAoBE2n7u3ogN/1R1WNYr17SBwsRawf+AbmEFfqRkAAB/C/XOMoY7iSjry0Z5KBZ7uSOaWuI92sJZM6kZzIzaVcrYbtlM4/A42BsoEaB/DxJKLF3Y+NERbCbbmAuld5Ml7IJ4b9AfAvSfKKv0Q40HYAksma+BfH3LZpcVW7dcwIZF5BJU1at9Pld412ObFx/r5Lz2aBenwLsnkplRsVkEMz240o8HZhrTABC4GT4pA1uRaqt2bemG2ATQdLuAAmo5S3eD2oy5Ut3Q+lBiXW0HPU0CzfrOlvAwgU2DQp0yiIwSbkLfAKTAOnkOSZDEid7gVGSH7x2m0JLXEhbyMZwn55WTSG8FtbBdizSnYrpszd30/irnaVbzDPSXTpRVv/ON4Ntyc2ZsiadiBFtVv4Js7S5PiBFI/e2gblfj+3aCAzFDV7rwVQyxu6oS8PaFZe1gMyAEpFc0ASMKSKVSrg6sHfnRj7cbSikZN87zW51f1Yz2Lpc06yEBZSD3VMJ63YyHN/bNTuGw7kRqyJFnSuWxmyIh/pM2/YDZUWz3xNmszGdWFRbkJfN8CdIZmveQw6GpLSUVLQRrJK4lDKctbGg7wYEx1+19hHOMnnlGwmIwnHlOuXShVt1NxiBMUE8/vGG+KFTfCWem0rcJy8a99w+Oue2MLtjFJOb4RJ+AIeK5n6tR3BqXhEIefqeuZr9dQWgqr/ShO9pgjN48c6RN5wAmGhQmYemVR/yforMs2C1GNpovLQVvXXXEeicVzsobpwlrHBLh997+DpNlpKQlDlPpFEcDImnmVv/GPn4OU8mn0mpzp48G0AnQ0KLgtfN6Hsah38w4/KdvyvS0B2ElEzGycS0qyLd9D/fA8bSsmycu5maVLs/xegZjuTgPFz2AJ3yAMgIgAGHs2tk3GZhHKrztXvAZclzyn0JoO7cWVnMDCBeUeLLBaPWZNXZeXerKZt7UFVPw9+J63eq5YSVL/ZhJEmdHq6TKmNogmiV6FSQ9A+ivVQJ0vLgaCGa+EETVmn8BrYkj384rCkbwMrjhdDTp9CrApTx1a5dgKfqVJFGY6cENyDMDb/g6flJ2Ne3vKvMS2d35R71zQ2Ko7QJeo1/UQXh8ufcXWUrzNrahvEFfTgpAZQjMKA6vvz+WL9f3kuHNgClztUEcj3JxJ0yhbxSIZlEZ3DZZeP7lqFNWzz9kGKp/GM7XSZPAVu8arVenR3SKlKF0vho6BwUF1y0U8Sayk0UlNfcwz9mAAASHYM/0oGDT0H5+3ugjJ09Y2VlNH2pMqO96EyUBRgrzcxqKDGyDqVQXrz3zBaJ/xS6PZYiiy9YlW8THXYm411Y8H2yaIeflssr+0a5dSPQWFoapfF+BgUpTuwtbi2AfKovPiRl7+ZGKcTc4939jIT7/Mlj7D+dhWQ8/NLfhaMDyler0yKJ7KjjOb4DDx5KtcuY2VnEO3Vw0hOZs39sCQVkVMLyNh5AmlSiVFqRzAKLbWR498fS+IRouwKxSY+gBzC4AZrJQCZMOQa5gPteaPs/l2/LOdNx2dDWEOcNalL1aRuauI23WyItVjDACg/Zg18UmM4QPUl/oY0KzwO8wP6sUcqLf/boLSfk0DqG96iatTz89Hu49Lv+T73UgNujZzO+1IOKs5p2KwQyeNpFsw9z2TjXygMUyOjigoZHJFzyYBLm2Ek5v9EfovXEqFxpPftPNBaf/rH5MaufsSOw7zf3sJp+rjoCAACF1Dabro9kMXgI9/u2frkgfijTRJrgoBLflef/eNy1LFz+x7gSGzrISUbvsA3JQkCVWmLH/H8tKivp9C7CZhbPLgkw4nz5TqgV/ymvSzsIxqVh4kErkiDZw7fdp4L8Ml4dUiFrKgXDfn1bZib/zq6a7UqqPL6l8rOT4aCyLjBAjR8zeTxBFWblF7lmaas4GSfr7/wic9kCe0s5+K+7UExlVhiX9iKoElMi6eQ6VqZ+FKHgAJMeYL3q/nRzgee/F/MBfLur1QFPgJt3G3a0iRaIuNS/1sDdXllYTH4GwH9w2WL+qQH3Sim4ayqpXmUv11LSXLqnrumCd/1w7xbLDSYKDoyGEKkm2seOYhSi5IdC5NZg53pDNmVabEnf7H0GRLzfMWpXZRdY6Hnxdle/4tcYqMaYBHMLnRJjqNNZfy7jeVC+syBVuRi+XYMcVD2H2aHYAolIpGVvNyfRBGNJaxyQSnQ5AATOeTSFFMd/kByAA2YQAAAMZBmiNsQv/+jLAAAJAv9HAZjuCZPlfdgFAOEpeEdB06v90SSg0gjF14ICsdCZGF4gI6c1YZ6ZeX7Qkliv8DjTW3nLY3PqwU4pQuHhUURk9RjQoKft+pX4BuO6JUUVK39Uw/toI2OCHAoo/mF3GhZTNG1pRa+QU3xKNtfTMtfqGQEXLDkbTQ0WhbEqScozyESdyeG2pheuZBWLkQeR8VYSHwO374F/H/2QVrYq9FIiJ9m6J/ssVddaKK+XUilZPzykDSdvdOnVAAAABoQZ5BeI//AFY92nMIJsIg4k76/EEu5UlWABpM5puTRCSlXnbSXEaVsH2Z+b+zdj+8RFJO+Qt9Rd7VS0hY5KEt9dOpplUPZlU1RPwMIpu3tpLTI25WnkaqyznevM2YHg0R7dOoMcn5LfEAAAAaAZ5iakb/AGvbTKAAOK2YDhVtkAcMX28sOCAAAADuQZpnSahBaJlMCF///oywAABsnt0QMYvyNA9tUXLhp20Df7eT+4Eh2yAzBaf94hkC/49XC5AuYwtgDrXgD8j4PwHbEZn0/SWPBZmGhXqmtOqbYde2qtGEksKGUbG9y8jI2bSAVXV7yp8yxkuXkERMPR0WW856VZcnJMcfrmJnOm8cYRs8az4Qk+DCEK/Rab8crQvFyyyRua4q9TXlIrkdW4TUFGWBLd4700/KHeskTMWyX44M8TqUCV8/ZOzNT7cMhNTQ3axXevV0GcXnAI1mQImASvT1fTHdHYE0b64Di+UIYLDFvjiTqkD9MpfsgQAAAEVBnoVFESx/AFY92mAAK5kNAafYrK+Y8a4Ae5KD37dl2uWzDRzB4EgBrnsiRgFpPdqwWfMdLPLbyi4U9xMFdXyfoQsVSNMAAAA7AZ6kdEb/AAADAADNN/Yfvotxd02aCGfUQmAG1JPSyUKSfDxfzNgV8xJO+5ii82TkY1L8ZUo1SjlIJ0UAAAAkAZ6makb/AGvbTKAAOg22+EEQPSDANMIGjDkvt6l/J8Ia9XLBAAAA1EGaq0moQWyZTAhf//6MsAAAAwABSafo1GIAhSnCeq6bt3Rz6cXeAo9dvv6TU9O7Ddovnzovy9Bq+4ENzkR2pBV3EFBzm4X7ywLyQIyJADMkXPsCvEtxxSxYPfApMIvRjAkXH0BFonABYlFtxz6Gw4Mr4FjEgEgvaZfvfBqpK4RgGmAybOkh1+jx4UZXx8NcCuIZABHNonfPVDeJsGBx6G8nQStBWGeNZlaETc0oKiMB+OCfZrjOsXSqIy2caE6CMVGNcHkM+HayfQmTB/UaXk9PCYr4AAAAa0GeyUUVLH8AVj3aYAArpRrrWpHJuNyd74iJyUCSBrleVxUb9oAyq4AbZWvMdrqzDAZRwHttskyjUtwY6Zs2USS/3z0MbTU/b5qmDWtWg0F/aUpWCHqJLT192B0Cp5L1NGEh367wJ56ENrk0AAAAQQGe6HRG/wAAAwAAzcNQlJhWIOWFNiQAKssuYF9H30eFNGKHXaXenJd7lXUx+y7MlwWUwM5u/WJzH921xXT4Y4QJAAAAVwGe6mpG/wBr20ygADlpfefzBhVtNwNuTelQW6AIeObY+ErLxcd52o2FTPRw0f7BE0s8BwLnUW7c5XZR2g6pGrLmd8SEKB359VD7xui17Nkvt9FBRIjALgAAAZ9Bmu9JqEFsmUwIX//+jLAEgHG4DlzGqrZaae6ODTbxAuJj3+8z0/AZTau+zkaFhLw09ULF2zJfd4mg/3CzaQ32i3JfBTMPhKrFjFj8eSBIMmYiWyCHuTNo9ZSBPMAPuHv7TW5EaD7JtC/S4WVrxuE3RQC2b6uwvi5n6O9fPGFB/XfYRxdasgEbzwRJuSJqpeG1u6f2m2MjT5AzwKQ7DxMsAjfLfXDzfOYkpkYgulMX4+v9pah99o2baZiO5DBYUYSZLjJwN+4S0huDqJbmf8ZET2wq+/17Iax6oiruBUffNZVXaTiJQYkT03ncISeZpznntsBLfJG59UnD2VI1hIerIAQzVMFNwWWjbgqIyAo7f86Qrwlxox6vyGMz+5D/sUo5A7EZIxRnbH6BRoLarQbA1x1PGtuoj0dbopveDCM1VXRY0xpHmOJvPmabbY5JEeQD95FmAgieDwxJAkehyo/eWLao6p9VNFegXdo/4/dYi2fhwwJPJI3m4fjoElucMAAYnZjKrKikHzXe7jZy6T1KEi5J0b3RPRN2qGCtJLf4AAAAXEGfDUUVLH8COx6uZfvT8FKVNA1/yWN7v1y4eoP0+yu4JGbktVPcwih0BDf6o+/0M9fgYAR7svBmwRdeUw4ET2S4+WyEWPcUBqnkKuWuGfHdBg6lrmJV9Q/dbrY1AAAAZAGfLHRG/wK/z3mO+2iBsWOWx7dAOKDPAW9IA4NHtJb/m71d5X59pzE2YkigBunKV3VUXFY8w2VEtr/tNaRCe5X28vqfg/BLoTWPABFe9CMr19xZO1pTj9WcpmZRtqXdeGTenwUAAABNAZ8uakb/AsBRlmadfVYNfs0174hBuiAr+c98LIKX2wzyVSW6qE7Er/vGogAC0yYN4xy0u01UvQRk9an68h1TMBaAY0fgIRkG0zzWM98AAAGQQZszSahBbJlMCF///oywBGCarxAtpt+FDZj+fWdXLzlR33bGBh0om2w9WvP7HFEqWTa4KaxDglqmt17LKQzujEmMeykUPn454hUfWCeh1VLz/WcoqTgFH/pR4DeFwz0jNNpNRpQwQYstaoJWDnvZsORqiXMJh2SkvZCQ6dreKKeo+dgrmUY9ATE73ulXv2lWGMruX17aeir+YzXK/v2zU1fMurADDHwklvUCUTvilfIprQPhTIP80UREMKDx14jp5oHTtiA582F5XZGX4KmB9Ku3Um5v7HVj8xdRxV4qBD4l9NIJUkjA7IDh425fYqh1yUtd9KXNsob5RQMoIFglD/1GCZOPvuEXbNRadDvvTQWnfW3ORYX+5hkSDpyKUWXAas5gHinH1SknlEDvoFIN4X30PEs86YvPCm6oFxROjvVWrsrNSd65tI6veVTFkWfwyYd/fU04wFO1f3jFjyJGa2d5E8RBcbWOi26Bj7uADeGXLowIjquaFWcvzyLwUMsEm90QH40h6oEwgQvwK9YdwAAAAJxBn1FFFSx/BjQpkuR7t/2CtsbSSjvxsjCHAQzo1VISYUotCfckBgEI+ih0G+FfdL5p3rwnHO/pELK4WvFIsZLgNMH8isLxXK2PdDSIvPsKnYEWnL1QlF1a8MEMtcGqWolumNcb+RbKkL3bz4ESfOW7ZiZ+Q3IVN0YvBZ8SGg/u2oG4bUZ4rQQt59tA8N/6rll1f/Aa9ZlIyt69NwEAAABgAZ9wdEb/B6CB1DTXB6fs/DGjIBWgSViMOGhRCbqKSSDTkSBAIvi4V99z/ce3HRPQgAFnxEr/hBnSf/Wo5Q7zuvLtQa/lOvAGHUZ9QFZKd7zI4v02h0ZHe6cSR+oh0QtBAAAAZwGfcmpG/wehgDz2TmAGHrKU85JLDjd83GiZf8OaY7knpMOYAJS1oi1hXqS9fmvbvF0NZguG+AVVkOCVzHBf6RhXmDfjSaOR4990+PYeAILV7OI1XoKUA+mYVPXDg9Ee/m3dBWPTYP4AAAFEQZt3SahBbJlMCF///oywAAADAAbx2ZAKBcuSuNsBcSo2ynOU1noe5fcgV1Q3ZGv46w0l/G/xTAwH9EcZvjYY71CjgvfjQdI7LNeaUOwaljAxYTJiuBy9lfYX8v1o29RiU2AaKX4+JlU64zn3MUeUhNWAacT9F0Go2QFxQxLy5RqDbQ23Blv0XIaGgsKXjM9DDww542cOj0v0rPzy+jvpVxtAmQAxyPcDlkZ2xxt0ftZ/hpqEq3JKc9KyfANRxKAGPAqbXZIW7XmmLqJ2sf9gWfMAhgpnMm/fB2ChUxSrQLVFnDLSM9VegFmLPoFj781ypmTcFY2y2CgWWOsYek+5GFRq4zQvvuJcWtgfyUq3n4QubkK3kOkN2gTp79NTzUK13aR2/81rbWwx8K0Xgr+PLCL1x+0u7zzxBRS8GUpuwzfuau4QAAAAYkGflUUVLH8GNQdkuNYpam3LzIzKY1OM43OZVjBzQ58uIpsKJAMALW9GYYncsUJEfO0Bh0zCIJFKiHP+AeTYVwvRlMEgfTuqHRWBBxT5Fvckw/OJY+8tr5SVfUTZd1oYEYOhAAAAYAGftHRG/weYbRXkGgHnUAEX/RV6wXe/teXTJ/wAiVW0QN9Wk3ts6xUH4bVqiktYJHjZWgBtOey99ryHIbLj9aTfmbcL27wTuJP/TPze8j0OyFCmrByhnYr/4eR2Vefq1QAAAD8Bn7ZqRv8Hnst3l2Led6gARjnr4U+KX5UQB22fb1IqIiiGrcfMy2cjc0AOB/QEhxwu7/jt8ymykA5bWjifT9MAAAFDQZu7SahBbJlMCF///oywAAADAAN4OGi5S4XlM+wAcOb+Xt0G199dMiNsGNMTbUDEye2ykk3/1aoiu5t6dipW0dyecZfN27TXhJfwSr8XiSnmGyj+p4OQhGQtJrZYgA4tnAM/FMJ+ERVawiTT1UbuJrfmHNLjIL+tQ/bHY271EqZxPcn8N2hPNDtklKT28npp2121MC3dzggtcbXeucsu9cNe9B3RUYBsiGcCTVOmGD+GntFOVRA6OxB+jkol1AyTmUuAmPBm0uwdki1YR8WB/95zVm7t+EONnkXvxtXSeQircTBKSf/Ph5Er4kXAoZPty3Yvovnlcx31gVG93pwe4HgYRSbicRRhrhkk31pfM3jCsiCh6uxDhNl/bziCGZW81YvBw2o/YDuITCL+z0r89WLgOCfFOpb6QJQ7LF8cg+6mv30AAAB2QZ/ZRRUsfwIsecVHWflbwAAP4Vdp1pVcw2HBeUbgln523VwAbN7Xo2lCozxrMsthLS0JchPoTCojJkjTqmpaac06l1jC4otuTqRz6LSCks5ImmyOD8jlS26iadEa0iPheLLP2MXEgky+mnq89IeuGKjv+vv7YAAAAEABn/h0Rv8BDUIdgAE5VmTlfjwHS7sZCOy3gYSga4kAEiK9+c3hiN1GCZjhTyj5TrjJ95zudixK4gzel7jM59cHAAAATwGf+mpG/wBr20ygAJ+UrztEUlTsAhDtZLsZql2Sage8kUNF1hPF1Q4A+dv18ABvgzOzVRu1uyFJ3Fh8f/6oqSUtM9pKVHRQDMtuDYmnk2YAAADpQZv/SahBbJlMCF///oywAAADAAN8AtjBTxX6aAG66sFl8GRA1plYT0JaQAzQiMtCLdO98NXYf0Ws8oOuriry5cST0C0LWLfAQ0Nf97sTGC5uUXLdY5yrZLoSZ+rkAI7lelZnnS8zMY2iwU1+rfykTKy1DA8iWn7qpnGZRRAFsla87ZEAltocUuWBSvGRv+qJc2VPl0KnZ2+YGCsgp7OvW4ZtdUBQLhzV3OoJyLEZf+0vrnbyQy5txwApkIiS8Id5qSV+mVpKb5YmdmhK/Oj+4Rg00cv7mHkyBagA0SikeQ9J4UwUdusteoEAAABYQZ4dRRUsfwIsecVHWflbwAArPllOPbpR9E5aU9H1+K8QAWB/2o6UAalGI3bVv+wbjWwPI/d9bS19IsO4VrdwmLkhxgNDYRnZK22e1iVLleDB0H5q/ujWjwAAAEABnjx0Rv8BDUIdgAE5EAlr0d6xveegrZSIEdABbbu41Y6fVzgWLK7w7paSjEuZpz9omWDjTuYoNx2Vu1z532eAAAAAVwGePmpG/wBr20ygAJ71yVHHVJa5CEtcyNSAClmx2NCUJ74qdh3vVyzVVB4N09DQgraYpMOGUx33BtAFN0JPG63/tIRPZLTm/StLT1V83xsSSjK/LrvqEAAAAMBBmiNJqEFsmUwIX//+jLAAAAMACUBAOKhUAezGAJC/lhOBVSe6KXdA4xyRxpkK3Tru310qw4wnhzRFpqhpUSH7mNRaykBDZBeE5o5oANo5RncskthnW9cdEsiOwnC+jXyPhcXhHEQZSp9qbbiGmJh4MA6Lokb1MoaL+C4DDb0WZ5KGk2Tc2V2KOaAUOrhG9fmnAjvK1CnjRiiOydM8W7dv3q4XuKVXTMKt23dW8fAVm/oacZfpo8t1qCnpJTfBxrcAAABvQZ5BRRUsfwIsecVHWflbwAArFiNiiaaSCaQAWCHBhnCvZw8LpKNloD11RWNaafTJud8crYn9yu9RB/uN92TtTAztd5P8VaKgt8yDV++6jMxE5hZWo9Fyt4KWCgbz9KPeBBix/ewrD1vw1xUpru2OAAAARAGeYHRG/wENQh2AAz6ZqEjvXmFHsZbPABZm7r6w+e1Do0GiyHlG7+oZpz8Tfq3qd3B1Xwy3B0xuFrnMp2KVl77a/NMxAAAAZgGeYmpG/wBr20ygAaa9eM1obXEe8oADjU8Ji/yuR+IucCmQSZu1FPQklKg1UjWXRmCqADjD+JhD0ShuQ+m4fjYRREyBjCoIaR8nZTZVqbR96VRMV34NE5EN/iYXDS+tXGCvnl9P3gAAAHpBmmdJqEFsmUwIV//+OEAAAAMAI6c+baLACuxxYulxx5QkMPKxnh0/JtQQdAvIzAv77w3Nrg54Tm60VdouBkv/yQV8HqKLEe82gN5XLViPH17nAZKnP6jmVk0PnShbbG/Np005P9LoVcKcc8CP2Wq0tSjZ/nMTwLpyXwAAAE5BnoVFFSx/Aix5xUdZ+VvAACscbfI9F0HOtwArlEFbHWvPuEhPWKK/WDQz2b+dUjYESnEOFltS79dGVuvBHOssZ3S+zl1bEthhx1Ies1UAAAAfAZ6kdEb/AQ1CHYADPt3vEjgITGgdEJvrOU6toGLtwQAAAB0BnqZqRv8Aa9tMoAGcjuRXLlLk/tuTASeK0eVCMQAAALtBmqtJqEFsmUwIV//+OEAAAAMAI57cxPkh8p0v+I7bbpazgA3sPyCzssNYWmpXQAmiZIYrphFoDWvtRod22jJzlL0ARyXP1FyzZdly1lvi4Un9ORT5LDiRbKZyoNeJ5ECGjKPw++LsifdXuxvTk6UGajU1T9CcY7o6/mkrewaH9paE0ij4lUBt9E7aF7W56ovtDX/KjcmocIYeneLX9XvDX6kY3ACftLz7bnaG9cqUDWYBsRFdMK6t9k4LAAAAWUGeyUUVLH8CLHnFR1n5W8AAKy/RseEr/UAmn6QAdIvPPYmPu+VmhPYf/uw2CI2pVUTx5AtaJ2ENsDp5NyWgr61qYEkD8KJ+SSzAjHvF9Srl7pivqUV7RGPAAAAANwGe6HRG/wENQh2AAz6WL34iAgAOB/xAwf5oLlHpFzuGh5UXDW5r2J37mIxarsBKmafIQy+DxL0AAABVAZ7qakb/AGvbTKABpZRSxoYsrMWITXIANQRm977OcUxAgQAozrZx8xWAgES6vkdNMUS9Ca3DvO5fYpU+Ue7luoZhNcaIDfFq1YWOD0TWG+AsXfc1IAAAAPhBmu9JqEFsmUwIV//+OEAAAAMAI90TZeP2F0+iswQIdOjahCpHRWMfJEXbcjZnUZUEaMz/ia1hhs2wVAk/J5Tjp3+gYl9uDKLW44bSsO5OQLIXrWm2uspVoZt1JL2E6OFx3LNla7JC+Og1p+fl/88uTu4G56vmR0yzBffKPa/DZ5b41J9sqy6pv5ubgt8c17/1IAo6bboSmO57l6UOiXsfr+Zw2y+20qmjmmRPvPrOdzx4GhfEFqXrFsBgmhxa+baqcJwq5ELMOyJPsMdhEToz0PO3P14QbdQq6NLxKkB/HR/cRdmwBuOH5pXSomtIRPrtHEMUIQBLegAAAHBBnw1FFSx/Aix5xUdZ+VvAACqyvgt8GLYiKJlCCElfVpdHRVAC0RjP/3/RBZZ/Jzz4pID7Zk5s4zrDiDyLaWrPLpAT7GTXwBNgXgUPxcxD5apTq4uK20/7Xjl0rkSm3NBQCbRUEYnfoqeeJ4+Mi9vRAAAANgGfLHRG/wENQh2AAzeDK+/oC3gkTnrVNNaUBRLVFm97JZeJPpLT4Ah8lTyv7I0BB0dEv34jaQAAADsBny5qRv8Aa9tMoAGcjymHqU5EVmg7otIRJqpwJfQe7CWpYF8Rz3/yAALSuj6Rm1RkMCIMFVVZyWSXgQAAAPRBmzNJqEFsmUwIV//+OEAAAAMADcssSCvv+CIlqX7+QOddCNZYje87YrxYILVTe3/n9Kt01LFu5YF/bLhfIhed85AjCEmXHt/L3KkrD5gEcSeXZsDIJ3n8QG/ju795tfAwVliKI70kL5qPX2XSCjfd8h4ETaA0O2a0wxrOTGbKK996lxzT7aeFlrEd51WCGD5NVKSr2GoC5fVj58+MO90PVNGc2ww2cSBkm8A9rIj9V0UJQUYJgUC4NsIFmakPekYWXDNUPqHeWerlx2P0tIYgYUm4WuNiLEOv20w1IlGsvOy8Ntp0NxMxsooXI7aUKkBhA95mAAAAa0GfUUUVLH8CLHnFR1n5W8AAEFSesm45AAbplzChiy1lxOOgrsiRrsiep2207o0ovjamhi/mTaGfWj6qT0YLGSC+ZCknh+8vSE4+ixddcdaOMZLg+pqJj/4bPWS42sxxzTVgLcnXDjgPvrLsAAAARAGfcHRG/wENQh2AATn0iVeOP9eMKecdvBiT4XmXen2+db7KeADg5/MIK93ng/lU0u2UPNhxN1CvaW6GuFVV+Er3K0jxAAAAQwGfcmpG/wBr20ygAJ9brpFjTwzEYyOXCmPEgAtTbOVM8pXiAfn6QuIsYCqSpTueJtRLa4E0o8QlfeZyBwO+kHoxl2YAAAC+QZt1SahBbJlMFEwv//6MsAAAAwADfcJ0TwrIG8Wb4AFtkceVIJPh/2WYHw8wsX9bNKAy19WtLQStG21nWoQrTCNEDMTs13IEM+R3khJQJyjN9Enod1cIMks9Yr+RwtUx0g9Kqr9RWptmSp7aUIdXRmhcTjH5i61CMHz3rrA4PHSsWukCjdriDORg9+nKMyykWZi+vo+jdVOYERjnrrq1NqUn+ilL3b6tuTL/NWHwGeA2zoay2iZfIUUAtWqggAAAACsBn5RqRv8CwFFJ5m9wAJKKH9THPxI3nozBtvpakJ1AhuZYtq55ina/8i+BAAABH0GbmUnhClJlMCF//oywAAADAANmBCoH7uj3AHKMxBGuc6n58HfZ05FPi+JJXTM3KeIN3LiCwAjAFg8yIe/7pONumTLpE00JbQ4/N+QQKWOu94bAMHoDzC1RoEx7Veshvrit+zxffoV3E0V5RmZ4v++64ZEx+W4wERrJJA92ZmBafzHjEb5RiK+lPDvT949VCur+aqSnWsVoehGfbflyJZkT0oZDVtx215ALn5b8KjEsDqQItxtHpg3TTAi0nWYSb2V+JXTbvfwM5aqqU/EEYSpLgLSaNsUplGzoWok7+H5eChHzeT6WKpB4ynk9XkzQ02ToQdt7mlBAv+U8tfMvMi1Ovm/g77UlmIUMqWHXvETxFeZjMzCeVpfotDSsEzLgAAAAaUGft0U0TH8CLDpCfg1nmuAAB6vkFCe0ZXZ11qWAFbtKrWdJK7VcIj2jiXJcQb3unxZjsGe7TPP8S+XdZLT8dw0/d0+g9dVHpKQcz+itxXDpLAMFWRLBaqdK7HCtU1dyVOvUapWPqv4GYQAAAEEBn9Z0Rv8BDUIdgAEwTQvWA6TPKSVDZr/+Zw2wV1wAUiX4nfDu2O9E4AAZezhjdOp/630F9YXeCSH0R+HT7LlmYQAAAFUBn9hqRv8Aa9tMoACaJv3UuLsgUkzwgBYUzSIkmV7+3jq3fb5Uj6uUQ41ndwYndmzIlcig1QaAB+RtH9FO9h3SEs5xuqE+K/4dsBJItb8nzzg3+pLAAAABMUGb3UmoQWiZTAhf//6MsAAAAwADacJz5p4GfpNiVRRirepQDsnAdrzXu3H2f14HY1uHFZHgXHff97b/1QD/CL588LkFpmTshr9Vsu4guFP/EO02r8eySuxAJEYMihCEdsATsCizNgJrGJKnXQOZP1xRyEYsCpD84cxa7A6tCwItDWNFrKF7U44mvOALrP/Z/K43Ihwh18BFWD2J70k1wu4xUu4iEg6GPpDr69RbRC6IlOkfux43F5TpIsxj1JqB6uFqMh1s3wQ+OqRdGnggEZ5LyAC3wSIkxfgfvFrzUJOu+fnE1dUEHXagy+Ehri7eFfed5BL4vuKIrmUYil0ATpqtGjikOaKfZMUbfNQwj/fkFbTigKkivRqUIjoQ1W9L2rZqnKqjAYhgCePeKKbwKc2lAAAAekGf+0URLH8CLHnFR1n5W8AAD4JzARUo+bDVmLwxftD+ANhVM2D1ekWVezzm6FDC15AASor7lzlxPfJSjT+4+grnMnu+8TnGUxE7HPhubYD+WMMt4W9mA+JvOID5v1ykfJBABpBjDX3Bj8Dv/P+JKOzQJC8Zpt1m58m7AAAAWAGeGnRG/wENQh2AATEIvfm6n8KSTBNe7n4YALeJAWyTZ9jqnJBv49vISgc6hvBc0K9Bc1Yxnp0sktlhcbkIIYR8nP8j58mgcUq8dY24MwNvrTugWRGWjIEAAABOAZ4cakb/AGvbTKAAlrKcKmpAnTU/8UoABLQDCETnTDNpmdiCb5Of/xCPteH+IcwXj+wpaP6UocNJuHD7L+f2eBupxbHWfw6vtAoX+iVBAAABBEGaAUmoQWyZTAhf//6MsAAAAwADUXpi9cy5GiCjnTzocbi2+LXAA41W7iQGPi2OXb1RZdYDlQol1kwrtUsz7VjrC+HlJuJAPX/wrWeonW37S/VVt4Z5GQA7+RbABOywKcjMJbHxZK5SvytLhQTj8DS/oHnOOG+jhRX8DVNERGq0QmQTaYAlBYBkglXbokov3qTuUWh9b/PGItC/VM5q0PIa+ePWj3vRnQBD+98x4VzLtUyNnpExBPnICOKyTaK/FK2J67Up4g5BWiAsm5F1MkDW9TBAkoJEli96UD9gdxDtNhQNZldWhmH9CZw2PEJOkdCpYl/giw7EECL0EhzuILms5+G+AAAAVEGeP0UVLH8CLHnFR1n5W8AABfkuPkYtibHsVAkHydic9YbkwaY4rwQDBGGMNNzxclgAKvZq7v6XzIpVMdOm5v70Th36BfSqtEDBsgL08P5SbHXsVgAAAEoBnl50Rv8BDUIdgABx4q4bZhwAbrOPGBlj8u1s2vH6k50Sq4wvgyfjw7MKdmYhCSUkk4lh68OorbAHlknnZYFMXShLrX8iQhy+UQAAAFoBnkBqRv8Aa9tMoAA6E1CHvq3/mjCl9U8avlg/CYAOKvpr2YJC25jU79TX93Xx03i0L8RDqpUdLeZrYzTpKVYALuzlZNFvbb08z6xaJfD88cwsruRj0P0SHsAAAAEGQZpFSahBbJlMCF///oywAAADAAFAqBoIywA3XL4JrUpLUCjigP8vOSjAX1wxWBSxmWpUamm2+Tu7ooyOBFVohrIoVJ9LNHSznH/Y57QlH3FXuGjKPUVp4onLoc2s9QhJsO4A1wmez5/KWaC35q/D30sAHrCMMXWJFYdHOUMbUVQxDysA9tgi3u3Xmu/WRlUqTXGCNtVkEz96OunUHe136m6n8kIqnFxtOttAhvCnEG0GZF13qUFoSRDhhWI8akfU1sDwkcow7BZDI1+G4WkelAzQsKJpqR/1t7b5HEDXxxnrGOxDTW4Rr37c4SxqvioIcqFAlpvKnVq6lHZJA+DlRuPyz+zZawAAAE1BnmNFFSx/Aix5xUdZ+VvAAAXmX65NEaHum5xIQXxxTuo3XpLS2XDIqFniFY05JK/lwAcIlzjV5E0tHP6ryT7FNAzLYxH1Ty1T+Yl2qAAAAFEBnoJ0Rv8BDUIdgABxUvvVsJrcunXE4+BAvoAh4HGZQZARMShp6caoMNX9DzNKxTa5wFqF1PsMwfrHO14CljxhmnkdkVlu9pCH2y7NfktzC4EAAAA+AZ6Eakb/AGvbTKAAOWl9zvBJYJphTVj+gBaukqLDSZKkZB5+p+lbrwYlxIKQngsN/eUMQs+99Ht2IamNnOEAAAD+QZqJSahBbJlMCFf//jhAAAADAAT/k+tA/9zsYAQBL3Q8OiEns/Rf+HJ2Fbdgy6X9AdUlaMDHHebp1UwLDd5TXAEdQFfUiW+btrk/fAbbg/01OQexhk1nzjNKYVUf94ckPFLyXGmiSPopOo0DvYSgogRyoUjaQVW6Mfxrdx7/NuVtcG8K/1RCnsUNZY+/QGxdj+crBsOrVvkMiUE219MwGejiOleELyPI45oN8evQzqDCqMBCdvoUzJs8erMbUUJiwnNf2Z1tahDvvBFG4POMqGP+jvBR79ZX5uPhFW5Ms8UinI193Lf8Xurv4Wnrk27w1MGtpyOACg1+orq3ikEAAABiQZ6nRRUsfwIsecVHWflbwAAF5l+6MT5fk4Ore56u0QHWMl2bbxghPsR4tSkIARgdCufEq5haB9jo7cynYRRJqTGg6MxRWjWmOxkSKWQkJEm3c+U/nAaAgpP6Bz929WWuy/EAAAA2AZ7GdEb/AQ1CHYAAcVL7Wk4aEzB4l+dAC2cMSYHoJ+4IResTsV/VDu0n33ro2MjJVS/FSgW/AAAAQAGeyGpG/wBr20ygADlpfUjnQ/ekGp70TggMIAV8M0c7TaeS17iqNAhWd1k2ejeADZhNcZzaDqsA+791ZI6bxoAAAAAeQZrNSahBbJlMCFf//jhAAAADAAT/k+0Cj+wZ5T6BAAAAcEGe60UVLH8CLHnFR1n5W8AABfaAg3muwAGowkHO+nCwje8PHyT6gDp4QxM65P/ejtjyn20dvM0e1ci4sdV7yrOMpdxpxXsqw81YISekJbv8+lXhXirmz0dIuOSx7Ext8wCb67y/WsXjuFOQbJtZsTAAAAAcAZ8KdEb/AQ1CHYAAcnudoUJFQd/Y9OTZcZ5yQAAAABwBnwxqRv8Aa9tMoAA58MQvJ2ZhuQZX/0neLZkhAAAAtUGbEUmoQWyZTAhX//44QAAAAwAE2d3ribmgAcZ1oD//5cVXK6VlaeaVRJWoMnOq+H4ZEb5ei7hsxN5kGnpsZaR1w+4qGviL1zFLzKhve9Ve+rKvAoWKA7ynwp1OKwxZUtjahfV5G+92j+Qgs7ITn31Tw8mbLX0Ke46eIu3IEEaNsDy68xlm+hPk/klIbTVQBeapzMTCTjxwVJwc2hbUYbEvWn4WZqzGGZyfvEo9NccV8scZZbkAAABEQZ8vRRUsfwIsecVHWflbwAAFyqyatKiKSREENJi8CcjReYQALXMCzabBHXwxSy1+nDJX/HLf+1qkf3KQ9P+9m6Y82YEAAAAXAZ9OdEb/AQ1CHYAAb+prrQkImAHWMfAAAAAqAZ9Qakb/AGvbTKAAOFuWPw9z8NNrY0v6flKaADcpE7unZ2z3gM1c8wuRAAAArEGbVUmoQWyZTAhX//44QAAAAwAE0sSTB+/H48Gm+AAtnSfxXGWLeSEVEyJgqaBbKnsaaf0QmwelhdfpZ5fO58GNpPStEwinO34Kv/+DcbA/Rbm2OUF7N0Hz0yLNoR+C+6EjrdPdTlGgX5sP/LgTluCtGOz7+nD4WeDyGAaSg8qw5cLK47Rdxt3Br5JcMLNeFmpdiXc1pbxB5cEPw5mO1hiAETVzV0ndmpSOtNEAAABVQZ9zRRUsfwIsecVHWflbwAAFzBVEEfJJUC+PENQrZLGOBJvO8UhioJHvjy2OQr/kwARVVKg03shsvtnzA/VTWyJtZY+8oig50XrcPz1ucscNR8dVNAAAAD0Bn5J0Rv8BDUIdgAByqf2b6K/Y0N4ZbItwA1oB5zYLh472W2hXb+ppKCirYC6OiiP3qvVTVc5op5cYLemaAAAATAGflGpG/wBr20ygADnwJZFsFs0lsoF1NABW3zSIegAs0NzfzVgSU9/vXggtcc1Zf6r7HY9FpL+TzKas3XZsOqiuRYBfhZpN+7NwyB0AAAD9QZuZSahBbJlMCFf//jhAAAADAAT+P/zk5A7vMACw+Q4Ih1pxSNkar9ndGXaV1D+Kic39AwXMiCJ/cGlf8bxKD1er5qjyPceVdz3nLSadGiRLbA5LuJIM/iz2o5hP23EojJDv7bfb6W6VAvR4kkJc15rUuCDsS6rQ1vCTyhe13y+Ajjm22zX/L9KC7cH3lP/T3iLm3cr3NJgjMhpfeL1j7f9H6g5Y1Siv+E4vZsMhEEzVXeNm4qp+JBzxR+7kjybA6zL1wq6folkX0XlUyzKaUYWCSWelIKCzdazvW00N6XoT5blPy+vpdhRsBJRowF/7YcaAPuFI8FFV8j+U8AAAAF5Bn7dFFSx/Aix5xUdZ+VvAAA8zQGEMHHzPoS8asBA2qxxepCar6U3J+QAN1zp0XiVEqCGEwZ7NHm1eSx4o0ovYNaRgQOOQiHIVImNlJJo5nLRPMZijiaavdjpvmN9hAAAAUAGf1nRG/wENQh2AASoVLjgrgY/UpeWMdGfPiAEVAqjojwGcVBwQBhWft2FDIDjeXe6wJseGU6CFYQfdaRpb+OxEbjW5p8OxvVdCsE8Q8wZrAAAAUgGf2GpG/wBr20ygAJcnddMNo+I2zoKC5bEY6YlQAcX7I07Y2E3KJzR/knMKXOSSEOGAM/ikq+rmLi6McZKliZnfT/ShxtCQifvlQYqXaUIS8qgAAAC2QZvbSahBbJlMFEwr//44QAAAAwAE+YjO8YWmkqerV4ApEajxvLg6LhnY30TVPwYumcYtxbR+hzfb801n9t1a6vT96+ornVtP6AymfQrglxv+A1ebp9o4hKRGjHzgGj5zFMvqIJhHJKd/KyjGtjU3e8h1yzP2eaFVrwMMpN/WDuJmVz6Pr4m2JwYGkaZFdj8qj7y3klV4JghjOxfdme9RMMFQtgyo8BT+kJG/O/eSgQGKvZKb+kEAAABLAZ/6akb/AsBRSeZvcAA1wa66hNTDHe7iyFlJFZ/+zvEemHeVKPExIAAWmTV68DbQmGtaL/h69QHd7+UXIhVeGUL2LJRkKb/HB2EIAAABLEGb/0nhClJlMCFf/jhAAAADAA0wPjDMiaqNaAC/U6knS6hGvKAvXnS8npTKaV1n/PX30XMMoKuXQ+nu/4qEBjNHaVZiJOGrPl6TPszct3+iZgzY1fZW8dYsGOYeJVDxk7iDEU/ng0usGkiagTH5KNLWUNkrAi9MRvwoRNsfLgLteDmnPXqgxFbPjFWed3JIE3IIKuKFWxLXo3/u5qyaRnpIQceXDjgzt9HJea7zXYY+NVImOTliTDB7Ult8SUfIbWWaAe5tk4DKFtJuVqATd66rUu8dUqDOGLLUXw9LNPV4axUX7laJqxq5yBTgOHs+ozO9m4QR/wqy1N48DGK+cbfduxck2pGnTBB2FL0j1+Nbcm0+oYjUaB46UsTPmORBr2Knn55VurZPSDBqMQAAAIBBnh1FNEx/Aiw6Qn4NZ5rgAAfEq8H5MAhVMSRlE912yp6lP2PIYC5VmkYO1BpaTf8+fPPVaJVuEnC/0Qxk3DykZGXh3wLnvSnWLrLCW32nZrkbQTa08y1f48Cz/xZIfehw8Bs2rJ72s+8pAHZ5HkqX+8zGK5PFBPejdiDCPKGTEQAAAFIBnjx0Rv8BDUIdgAEyDqiCthzyerBuQAFsT+9DMBo3q7YjrlaYDt4Ofhu+hyOcvsFQjX/pwc3QszsFMLUDsBvF51HoWOzVeXVp0EfJNS48fcowAAAAYgGePmpG/wBr20ygAJrxbBNiSsoTb2bAHQISEUGowAJMyjIvrx+apuoNBcaJ1ruUQMznoL+fbFvY96U5CeQ4HbcLqyXMAaJiuIf8TBucygV2bgM5cC239bEknoWcsl6oUElcAAABPkGaI0moQWiZTAhX//44QAAAAwANgOYRNC7APnurqOO16nz5k91oAyqwZP3aZ8jXiuRVjKEw9ZFXBdgSxEtA0mZY0ziXuXeGz5rWOM45i6ggDS42r3VvaH7xfAFOH9vg9tb26Mc5d4fHv7lYQTLNhiQ7+U/+lXwU/4jIIisWK2V0difyAXN4higZFukLZM642HB3IeAOrURGCVCvtLeYCBl/UYOCk1tD8ORVP99G/gUNLLNAqIeESvakTSP8JFMYX2wyYAe4Iupe/jpYUK35V120qzVX2o2/BSolULTwSByA9O9pRlpZBeuoitP9bMSEsGnNDQn6hbFgaSBSEErBzH6lp6Ue1Q+BPBp7uvL5RUu6yDdNw3dhcwuYPXEsjKShjAOK43WoDbNY0Bf4Bhwy675e4H/DotVXu1daqPAHSwAAAFpBnkFFESx/Aix5xUdZ+VvAAA+3n3RRUyQ0f4+qkALW9UwrE7leVb495HgWLnkXs7zow0fqGnpgRRiYLdmsNlf/K7RK01zBpnN9g0jVlX0FeVCsUm4qcXrYLMAAAAA/AZ5gdEb/AQ1CHYABMKrsh6a362Vhk0VhZQyyfU82Yz6GvflAfML0hbvOAAEKywGpFFcfCjm5msJg+C+FDOvBAAAALwGeYmpG/wBr20ygAJ9k7DqXXKDuXHVr2u+YItGzXdjJOc/dFnyJ6VDFXQqeKxAgAAAAy0GaZUmoQWyZTBRMK//+OEAAAAMADXnJ3aJ4zhhwUAOdp4O7CERilLGqLn6Y1B+Y7HWMKW2ZW63udAbrKElAgrQX4MKMmq4Q8bSN+H/XTi3ozvwK/YOlkVFIboQFxteTb8dx4StHb0yV4mqmQOKAldGzHneM30LIYhPOseAtJrX9OyqoE3PCD1uzf0xZSXS6Pvgrptf0IABJeCrlb8ArlMoemxkNxd+JQUKsm7e9orqpD4utiSYZCVLeOjhb37frfpHlDbzZ4E0dOoBNAAAAPAGehGpG/wLAUUnmb3ABg+nwa+2jKP+e8J2X973Vo900AI7l7HvGmEC/LNbfIBobgUL7CuwNRbSIFzmkEwAAAQRBmolJ4QpSZTAhX/44QAAAAwAj3RNl4/UOWL81bDOKIACDC1d1iEZQzf4TePeebuSn9N03M30ouSYeG4L6QVv1uET4QrxsD4dOncfIY4HQwC7/SugNFAl0+AlvneBEv3z6XiljFZIiHYeBgtSCiBQqVfIg3juS9ffEl0tKzQ3ErNXO+61+PXE2uTWPLivvZZU2yxDeB2ypOLgPDwscb1wofBFNxnb0MaByDLxyLg13UlBswAhLu5oVmLZ6LOnY/rYPElfUyH/Hr9Qa7t6I9FEVDKaLz6wGAWSTG7+xhhi54QksKG++mySRzlpw7l8h1XP5A0HMdvJQj+lehmcfDHWju6a8VQAAAG9BnqdFNEx/Aiw6Qn4NZ5rgABV6edf1xZ7fP5gUbwgznXgAZlnIIbMU+hqbnlbW0aks1CHF1Y+JYd+QAAVKgKI8woohC3wCiLgj2YHvOp8O+/c80J7SM9iZvG/mRMlGUGQJODZzlPTiIYzSE8nSVZEAAABRAZ7GdEb/AQ1CHYADPt3phsgpUmC/uoZH2xzMiAG61CA8NkYQDpRKtzYBnqiRcE3nKzlFKt9+Gye3EshlmdfwkvjwxIBe9OP2cpUmRo8bRGVgAAAAOgGeyGpG/wBr20ygAaaOhHJUUNtQejPdaQJgu8rJkAC3iQe4vDMBUuYhmIL/8D/s4gHNJduXmza7WQgAAAD3QZrNSahBaJlMCFf//jhAAAADACO0Iva0WEqGPwxQ5Q0p3aW3HiBVdBSJXk//B0imClcfHaKvtHadTY2zLzk5WIYfFYw0Wo97Cod745IXxPGUBH+cR73PrFZmMsCixXlYA+fhAC/5hhlZU9+erdi3EBzzzOMCXYV/5MvBl64oFOVFAmddzxdSuOy7wvqMm0EhK98bsKoCGCX7hD90jaqiiwmbJFzXp4YJiNx8uc0gv0hYDNx/432w6PYYXLQV0rRn3yn1Xe5WHLIDYaLo3mZ6vqxrRDWVR8jr4B7t6ISs6/NzdnW1qPZlwiune0TpOPiaWnHXY4y7oQAAAHdBnutFESx/Aix5xUdZ+VvAACs+ZeQPP3oeFj5aGIwABuObFLH6oPnNtOjm+JUrzFca6wQX1dFch9N8D5pnEDqOn0lXJPOp2FcuCaoIWrARWWZRyNzloNAe4KCCQckceqpwA/xIMTUTMX9ic4H0Z/a9eNgR07+s0wAAAFwBnwp0Rv8BDUIdgAM+5QcegxqKN4bgrr9JStBlLPgeVHlXvjguvTcAEKa19U1ItWyPJfYoNPmievZj7x63nDsyGoct6KG4g+uzu4DU9R15oovfDXbrYIgr1e6Q8AAAADkBnwxqRv8Aa9tMoAGllxeAn5wU/S+CbIN/oQBOJgedbhNV81+/3AAnNtJ71f9ByBk5d6P17+wNebEAAACuQZsRSahBbJlMCFf//jhAAAADACOfVtFyNUKzrRZqQA1jg55f0oyQE0tF9onrU1JKPPa4bhnxmlGTH9jC9e/NmUk81jwk336kP6wwRMf7zJS1nrXLGiErnQlYBPxHrWLXwlubWC+kpQ12kIyhe9kfF/75SeVw+XEt6f3jy/DeGZg1vuhsGeHX5oiuJRbyxqgnED/w+UUL/SDy70CDfEkdzWrWCCCPeCsO30pq3sqjAAAAYkGfL0UVLH8CLHnFR1n5W8AAKyhYnfziJ0QAIqG0AW81BhMexvQT4zZlJ3HM49zqY8GUi+emyZ88v9cxN6RuOr1+VyoBSupkI03Uv9hoOKWrtYlKtWMf4g0BUMQMhWaSroeBAAAAWQGfTnRG/wENQh2AAz6ZycuI+0p9329fGX3D7k6wBFqwekVyZ/5/yeM62a+BeB2T9NRJj0TD5kZr+qsFym0pOHSuRmAb6pZE3ZjbJQinXsPxxFCTTJ/LtmMcAAAAIQGfUGpG/wBr20ygAaXNg+jXZIWR/GIoyqUuDyD8guxCjgAAAEBBm1NJqEFsmUwUTCv//jhAAAADACLdE2gZQsGd4AOERJPleBE0nEU+kWQEWdnHqUzzc08yAx9ESD4sjsrLnnOhAAAAHQGfcmpG/wLAUUnmb3ABfa3l2jzP68ac+v63ctjgAAAApEGbd0nhClJlMCFf/jhAAAADACOe3MT5IT1FAPbNbeg6hX39p8dwWYRFjR/dDssi5p2Mhn7SUhKK52V2CAcDnvNPn1z6t7h3IrCciZIKjtqtPvezzt82P7AWh1Sa8ounFcOkoGID5CCLM5huqlj5lCMuAb5I9KbRsI1T79OnE78q9oHPUNj7PchzeJC4QBouVw4RUrw2V1l32P/86c5IArd++eYLAAAAWkGflUU0TH8CLDpCfg1nmuAAFZ287DGL418ADmF8Avv+ycAcasJ03yZqfakz+e+CQK73UZpC0wfybPGcssMFO3TWCIDDAJKTOaBLlG97orw84AZqhIOTt8UZ8QAAAEEBn7R0Rv8BDUIdgAM+lmndngAHA/mEOsYgqxgHq8VZ97BaT8hVAxezVZteMk+Bdgr993czPXnt0g+rRQMhm+eRgAAAAFABn7ZqRv8Aa9tMoAGllHBVTZV2kPZwgSwgBW3X8zHvbVuAtyj2568CMX+F/Ltr+2t/Eh76/jmfrgVvI/dLrSqqn+6KiH7Lg9OAsA9nVR6fhQAAAO5Bm7tJqEFomUwIV//+OEAAAAMAI90TaCf/iLP2SCfNMdchDktDInxWe8vuxpqowR1UjYU79doM7O/bzKBDGvCza2ZMo2K0tzGuAE7tl4JNu+9xgqXLKRhzUx8q6kp1zQArVv0HU2eOMIvsMdzU/DdlEKbaTfXgxoviuzveKnXsvg5+9WYOynZZfmhhsihSM8U0cobfiWVa9bKCOAD/Rm2NbEcrY4MjqvQCpcGAtN8UP1txJpNt2lxJsbX70OixaXUnxq+aMPEv74vq8dAOKnGv4Mukfmp8Iw/BLeanEAsFczmTrPBYGbgFYEIoFar5AAAAdkGf2UURLH8CLHnFR1n5W8AAKx0XVhjDTBQSZPqGZ2DYxAAWn1/QYl5uuQmw125eVTFkzosdOZMfWbXnvhcH7U5D1CXYcHRgFU8wZNMrbh7IY3DpGai66aAx4dEj/GWERTMCMnDRwwqoJSCoV+vyMprQcLztWaIAAAAuAZ/4dEb/AQ1CHYADQEouwBWSVhACPBL1P5BX9i0cXdtSlUsrbcg8b6z3lIdv6wAAACwBn/pqRv8Aa9tMoAGl0Asd+Xi3+C4Ir9MLPShcQbVFRqHZj2HhAuOW1HaNjwAAANdBm/9JqEFsmUwIV//+OEAAAAMADYnApcmjCyZhmDiKSCgBGA1Q3RUxkwOK1k9AEL6Dhw1kwllbdHq61Iq5tkYqbwx0LJDF5tkk3EdeThk4UH5KxgtnEZ/N8LY5THsFurncrBGgWRVb1ZGhmu2yL58bTvfA9o8V7avZV0wZJXOEawT3Av5027T/4A44FFFj99N0vi9s90JsfxgHNZOrhgzqx5ggY0/ycastm2jwZ6yNwQ0hqjDn/oyWKKDpqhOYHyCgIBiRceNYUqtbfa8P/zQZDDu4Ga0EwQAAAFxBnh1FFSx/Aix5xUdZ+VvAAA/huNoPobYNG+W9cAIDm6q74QXD1SLk596+YsK/OTDgTBL6f1sAnEkrBg7JRXHhyDlbckV/MCnOKooyiptJK5hlhYixggZ5tJiDgQAAAEgBnjx0Rv8BDUIdgAE5Dt/J25tOmTwmlbihiU+Dq6euZCWAJWOpRyAAcHPmeGrsuqnuabKFHotyS2lvmqYq7cjCjbIcuhOEBGAAAABYAZ4+akb/AGvbTKAAnPLwX6wABvy0IWv59qMAtA7Sgp5YAfgzmGWkceA6HoD35pi7SfdH4urL87bSuAHZfb5liCYcoxjGAP2qjcj9KHJhUE/hI2IvreZHWAAAAMRBmiFJqEFsmUwUTC///oywAAADAAN9wnQZjp511AGAEh/HNTakXMnTelr5Wt1mTd24S/PIU5nE3DWLi9L7U/zf69k+2lJ9BKc9rsONqA8EQConShDQFXYswhFdlWNWMQNucsRflwDkD8/YR23b+/OdtPPQEFInVf+Rpt3b/9UsR8KukYeDNlKvah8E2mANh2dNpH9DtG+eccEPPPZ/K97jvgzQfBeXScCdgRnxN9dWQY/vLP+RGocdnSEh1dAb3yruJb6dAAAAKwGeQGpG/wLAUUnmb3AAkoof1Mdj4Gfi9e6Fy8Vpo2JchafchEGwRSfD49MAAAEzQZpFSeEKUmUwIX/+jLAAAAMAA2Sx7IOkQAX2X7lLT0p8fcRjc/MvOHDMrXHVoAYax/MPxYBifIKEDqDG2pzJyC6GRm8LD14ZgP5J5a9qiK2r6WoYQOTilW9Qg08KFWAAfOqFM2ZpaNqj/yLqi8cxkY0F09zEjpWFUh8da2aya8n9oQQDAEi9rrfUSOTSF3RqcxdSPkZC84qqdDwQ4CHebENYOQU0XB2jwNOtcFINkGFxuaLLciLB9DH3ac945MOodkCzWJrrU7WG/IzGEL17SIkzwmj7NYqcWK2iqPGwlOShIhUiDtx5KSQevUYoB199rlCPz125NPupCjYwDgyK75UWUZk4fpHJai6WO6dIqyLdWH2HMlP9ALMAd4UGxq4iINY4myFHZUysUuIgt1BXNgetLQAAAHVBnmNFNEx/Aiw6Qn4NZ5rgAAer5BQntGV2ddalgBFKEtWfU3s1niDcDdMrFh6Px9N8O7VRA9HOtTXGX0/Rgkar4fiM4vLYQb72EvQ5M7iF6cJ71c8Iay+WTFiuImXZgDSIX4yT+0cxAbMKEOYNsEbaCMBbBJAAAAA7AZ6CdEb/AQ1CHYABME0L1gOkzykuPdHtyZ+GPw4qWxDwfNQ4CjwgJJltovqsEdYX9kGlwkQU4/NW1Q0AAABWAZ6Eakb/AGvbTKAAmexNGuSvxRbr1xABGhORaFSZQCB27C9oCBsYGC15xJgxyPsqt54H59pcZ1+8IeLiZIK7RXJECwGc+zRP2u2hRwkdFMT2R/QmVGkAAAESQZqJSahBaJlMCF///oywAAADAANpwnT0YSm4LIEircmuoAbRn+0T674VCpyg7BTtFkVhRbKJHpAE2TQMPIqy+bHkQUcq8XNB2BhsUe7CHtkg6LXmujdF6U79dxuLLJ8ehOzDfElt1jhVlvE6gFQ6RUYRdYMQ2qamGW+MDHnerX5AUKURLQlg0jlNcy7pZvyLN+h7bOk5cHtUJDZgSktJ0TBQCl/ka1tL246jjVzOZG9YxyuHC3QqU+iSnRq5n1TyFUaqeBu1vjSSDMUsppBEplphU9c+MVEk1Jj0V8st6/peKywJTMJBvaXcquPgk/q4eLaTbZaX2KLACpCgklzb9kSEP7zMBTg9RQc2y6+ZvXAQdQAAAIBBnqdFESx/Aix5xUdZ+VvAAA9fn4DYL4+wLoAWiwRiOSq9YnwPfo8dI4kSxxy+f3rqVnSwoy4lIEEnuvnqmYDhZxVveDUntyJ0+nEYoDa3aeAvvinVtWw3MbkiS/HnMiTBETxWeo1SH5iMj5QH/FtUpYqIpzw6uwnbYjcn4S/CQQAAAF0BnsZ0Rv8BDUIdgAE5J3t8AECZt31UGKfp6a8ALSJD0W12iwyMWdqKNmJ5fXkBiB73+j43De8TM8JYFZWcrf/SlmrQpOq+/xJVmsga0fuU1y48RgSs5tTIpClBMkAAAABNAZ7Iakb/AGvbTKAAn2Wav6AosWP5yUFIAEtALXMdb4hANuBmfSxZF+wT/SB2c8HPx9qz6mmieEJNSPupI4obIexySNhFJ1th0tVPANgAAAETQZrNSahBbJlMCF///oywAAADAAFL/1lACCyHB2iiI5086HGzG1OCwExApCl86qMumaVDHLwZy0MWRjvsh1gSnrJIowkaABPKI8EEtV+wym3NAr3corS5bZswIWQciFy6P+l5LFIJUmkkXNYCBoxGOubVGvF/xn867h9fa5Z0oHPlYn9zGQPrxO53kAPRdCftatkR5fiTCZfm+rR8S4j0o6cOX9DSDxSLxTNuKWuWSe9HtiT9/Nbn3MJQgLLhF6qDimF0ghhr49y6i9c61qXTMwdQj3h5B1X3M6LKc8BmLvww7gHDIJkToUpiKfbLBTODTont7uwVKjxceXrpS7UzY0toE8beOFfHDCRB6Lwcgn+nKOEAAABaQZ7rRRUsfwIsecVHWflbwAAP5morT1bZ1kq6sUHozyJYW0AMaDPA1cqTOc/ml0yE1TE7Ors5ACGa90FpbLRju0eb+3QoCoCgO5MI0FsRdt9obUYK3/pQ5kSAAAAAUgGfCnRG/wENQh2AATkmnMI4wQDd7BQ3E2Rc3Rk2epAA2cfl4FB+UB2tEdY8xMNM12WcnIOFA0u9Srl19bElRCRifpilocGpOW8zUNoDQysMYPcAAABrAZ8Makb/AGvbTKAAn2WZ/rbHWt5ob1D6afggPtHY5HiEALSZJs0jtoES08iNKngwL9E8jd5SEEeIJkhNbbECInEzleewd/rMbrNYIABf/stn4RKgKnbthROqe1IRCoeGsSdJ9ml5wzsCISkAAAEJQZsRSahBbJlMCF///oywAAADAAFBTo6fkv9qQAcbn1hXHOyYptGkEVpxrIhaexzsGM4JyoZJAJbWdzAvja6KKQsw9YflJ9tm6C0xAIrhhcf4bFZc5Ia8VaiOOHNqsXh8ItYD3gzpKuCurkpK2aiR2tBWzwyZKfI870ty0rsysiCcCw6ry33bfKINZVY7AfYPrmDWq0Co3R+kE+MyBBlGQ+HZS36skn4Z1JW4LRCL5qBC6oOT1LpWV8oomh1z4Lcno0pYrhTr/zKkv7/jv6djI+zEyt3rH4mtqIPILyE83JRVjd5cZywZv+ehEzJozzCeOmFx6uFOh8QRkxuCu7fViWCdkAgygOSbgQAAAElBny9FFSx/Aix5xUdZ+VvAAA/maifjQJFO5hdTSfNVVYUQnnU1VgDzBSxxsxLX/yz7PIIgQAbM03KBFLSQQxqJqEtc98ouwDTBAAAAVQGfTnRG/wENQh2AATkmozaLI07tApoZfaaNtwADgagIPz1VxiUMiZNgcb0k8tdjkjCfics2WWQFGgN3Apmkf7fPq2nv34FRt1BWMwQeOT3aWVXISxAAAAA9AZ9Qakb/AGvbTKAAn2WYyZ69v8T20tzP6Xt+PZFADWdiYisJPuWAlhPkRvhZ9ijrgz0bAe7LAAVMJSWDKwAAAPFBm1VJqEFsmUwIV//+OEAAAAMABNPC4nbEAmpf0acYkzbWaq5hOv9UXXSoajX99R3llLGjq6btZXpUGy7EK7EHFR1oyv3knkRmY4PBcLrGFTv6T8aGx1njMVTe8XZN+SYmB5V8qBhArmTsbCqwLb0itfvT4AJUDJA94P+nSxx7kpehzW11TlKazOfrrdTy4AHDEf9D51J6ycI+bGwl11gBiGD+NwfNAAMiSp7nk4/PO7HSbSgpdcxTjmruAzGg50pSZe2DJHJqSTHsWeo4zZu76fd8bUuLAqrj/B+Qnm6f9q3N9EFrwZTUo7V/2g4iBy3rAAAAYEGfc0UVLH8CLHnFR1n5W8AAD+ZqPSJ50JdmGoN7QOGU/Ia63Oa2IcMTGtpbZeFkwGKQr/oAK4LscO57iY6uJX8hKxkLQ7AKkbWth3xVOXguUGlxvhVIgXBRwtRoNowpwAAAADkBn5J0Rv8BDUIdgAE5JquyVrkQ2vjVuJnGQALfrorEZhiDI5u/IZUelpOWKqXu6koMCFuqjFToEpsAAAA/AZ+Uakb/AGvbTKAAn2WcSclyUaJUoRRjTM6vveqxZAjwAReaXnZmb/Y3FDC3e4Kg3vCIXyccRvik6U0uLf9BAAAAP0GbmUmoQWyZTAhX//44QAAAAwAAtnwEwY+6gb2nn5vgfn+CTDMvoRmAV/HOOY1tS2mOmokB4sq/f4HjmzuD/AAAAG1Bn7dFFSx/Aix5xUdZ+VvAAA/maj0lLLfLLIADbmUz4PwO4K9sQCwKhibM6xoQwdY6PmF+nee2SLzACi8FSAhd2nkVJqlWKBpfcz1gB6h8L6zpqNoiP2NDDzdCzD4NNIdIKmqf+o/KFL6I4/PXAAAAIgGf1nRG/wENQh2AATkmq7MIo1Apx0GNVYhcNVdMHYxhJWEAAAAiAZ/Yakb/AGvbTKAAn2WcShVwKo0QGSg6AA3DYtm27qldQAAAALVBm91JqEFsmUwIV//+OEAAAAMABNnMi9hEgCJPU6avVxucSYEBOFrxDop86dJPzpUXDXKTZil7frTU/5fI43w4P65pat/rcAkOFNwoki19ZGqUkvgLqQGaXpY0buEmM+1kitFFmQP8OQUGNqIDfsqV8SUriQaM7jAMi2Q+FO3QiKl5/GDhzYWg6PfM/Vk08xOABFto46X4k1ahYA2we0YdYjNKpIUOLXUSNhzdyd28ssqoLQY5AAAASUGf+0UVLH8CLHnFR1n5W8AAD+ZqPST6gjRNF563Ug2hUu2PEADiwaalTnbxp/qwATj9quCIiLENzSbpeJDuSdinSU7wlir2hYkAAAAgAZ4adEb/AQ1CHYABOSarswii/oQAL0lf2chc6qbgAV8AAAAsAZ4cakb/AGvbTKAAn2WcSc0uQXAUA92rxaEeNWN/q2R6EPq81exkJDzh8BEAAACpQZoBSahBbJlMCFf//jhAAAADAATSxJMHaoQNvQZydU8AUrSoW3z50WI3WovZmGUzX/Fq/j/MRg7citcc1xS/3Nt+gb/W2VGrv8JcHD6zLUkkSUf9VtWZGJmFv4r/QMnYOP6Gnd8KamtjmEBAaEGE4dGy4MAM9HbhBa1QksMx1LgWYdKrtj/zVs9W2+0EG3o45AeYuXdpRaHiFinbXGCS6WdmpOvR1+rNkAAAAFxBnj9FFSx/Aix5xUdZ+VvAAA/maj0ihj2kAu+Xc2x51bAOnQP0hGUC7/+tA3O9InpeTJ//oQAcFPuYDGMyeGBETaYDGBN/hiDlGLZhss3Zas1tG6YwZ2xtWZmh4AAAAE0Bnl50Rv8BDUIdgAE5JqM2Sefjcf87kcLrLvi0ADjJqO9QBcgdB7IWK0Fundg1cBIvRvr/ves9z0IKGCc8IbnLWaBQD5U2qTSYE99zIQAAAFABnkBqRv8Aa9tMoACfZZjJu1MeIEFvQ24Pd/VEAGmmM8RuIUfsuGfWNF5jAC1nUtOSnj7qR4Imz/tivNyEQNkOBlD7c8vlLPf05DjEC8mnpAAAAPFBmkVJqEFsmUwIV//+OEAAAAMABP20h+oSgbIgBYfEEF/dBgI5fq25aWDwMuOJYtBWxCM+2bSHYhvZ+H/csKCkK/p+WRu78W1RoKC9QheGmZZtO2Ounko5yUigOgqLPYOF6hrcqBOxucrg8F0ju1B46s6mBSQsXGtXNEuDzB9aUrS/hciV5dSNrF6NrmlJnOzmkMfYKqIWEDUkJVP6V8ungvB/xjOy2l8OXuLYcZUg+FDf4eMzod197agAvVrNpOqqibFX31AgTJ7sTJEgMHq2P5dqxmty4K4xcjilI0d9ri63buQALaC0o4GZ/gmVaGVXAAAAc0GeY0UVLH8CLHnFR1n5W8AAD+ZqBb+Z8hnQ1mZTmA8vj2LZNPMDbgQcooFTD2jp5K+AA48h3Ze1ZTdcbMArw83LK9tCuiF0pNc4UqhSvLXUcZPNTLcZvB47BYIRRq4gzDxFZA5VIoGOiqH1pbh0Tw4wAiYAAABfAZ6CdEb/AQ1CHYABOSacwwDFgEEuT9RbbtFvTiAAioFUdEYaODQhiShWjTiAls57Ni4a0mnWx9Bl4/m6L20bx2Zy8tafHIq6uPrmFwIfFk4M68BZjbz/wY1ZDeFxQU0AAABWAZ6Eakb/AGvbTKAAn2i7yQIv9Fz3WDgVo6HfbCgAbv3PKfsLOnF5uYeZj8SmK3H7Jy+smxCh/TDOk2/GVivOCnYMNZY5jHXkGDEFXOpJ2sYfsUDQnIEAAAC6QZqHSahBbJlMFEwr//44QAAAAwAM7v/S2ek0RhwHhU6wYnosgCEZUE4M8AbJGNrFjTNtc1Ns63I8fnWLc84AXOBHq9BjNVn69uO2sxsGOqku0CLBcpQ1BubsGLidlvh/f8wqBwn9chPU/uBGglBvZefC7PDFgyFO0M57tT73T+Ids+33pz/J5NR45i6kY4YPyjMz2DBbC74Rik8AS1bluuUWiuGtTw6oHP8vrmKPQFCmq7FXFpKfiw8JAAAAUwGepmpG/wLAUUnmb3AAkxkqMSwP4VSnO/M4DhQtWw7WKRzzvjAaABq5dhJQcYahwHu7yENAqZhU9iYel2vFBeATd+DHkF+qU3WdAR2o97ItZFxLAAABNUGaq0nhClJlMCFf/jhAAAADAA0wPjDMiaqNaAC/vRHNpbeG2Ndi+aPyZitSuOTNz+WZ2aD59bW8u4oPfj1NJOVOoZqrTAfT3f8q9PRjnZVcEd367ETRBcV2tGorn+DOFrAJPCARLbznPG1Ozt2WjLLQl+9VlzfT8AYOwo4F7HJYsFCCA75w2U6VM7wVo8X39aSE7vOsJ/3zopzpuUMGWivwP9BjR/NK1Zgw9vxeBX2hCWuCysJETFPFy7E3KSo5EuNAHsflXAh9/QfFKAMhlXtsitTOltNNTX+MUPjDrVZOSlRs1czPvjaVHVGIfO/8Ql8A84cIL0njenrc5CUeHx9vsMGtPiDDQCCoaS66NcgrZNzdyt6MMhRKHvs1c3YcacwhcUBRO1yzdJFF6zqW2T8OCWbSgAAAAJhBnslFNEx/Aiw6Qn4NZ5rgAAfy/LaKMbACgiZLurWNUMnljKHI9HrbOwMLWFEcNTcF5gUxGqnjJ+lRY69jqBB9mH0DWc5ZqK3wEXYcff90Wsqdc7Jif9Y0VfycZp+aYMHClrTT/HXzHzzhIRM+dlnfPmHDvJ9W4n17dxWkOZO5pG0sTsgrnIloKIbOoLe4HURDM3KTH+SnHAAAAF4Bnuh0Rv8BDUIdgAE5KHPhNFpycZoAAWqp1FTQUDtExpop2D0vYflu9CcsM9l1QN6TC0wx+AooLSty5LZs3PIYI0fNXR0qRWN9FJVuKdWYK8wt89hF522JKs5+mJ3RAAAAbAGe6mpG/wBr20ygAJ9lid4EXr7N/BCxUHmeAC1MtItX4DJPqTcZdZUSbjW5XcJ2t4n3Po/VA32ZHwhWuhFPh6/xyaXUCojXihnhhWF2uc2v01TfumIYzmwhAkkBwvEgTiiheLvO798Nrd0EwAAAASRBmu9JqEFomUwIV//+OEAAAAMADYhsETQuwD5zh1+O23l84vWoOqTIqNo460yWW5R6HFE+wS78vUwMMZwbswYL2v38Td+RYRlXYKrNVz368zmCODocArHKSksCYCWbuUjxRdvIDNEzCFpSyeZpXeJDRrl7ZjqnrZFlxAJNZeP+3/bZv1ySh4UTvettW/2byrt3GSCT9kfatEWSzvssE39i+fE2r+/z0QBWpvCehY1QgW6FquRl3XG1VS8veZ+1Cw+jxG5bNS3fSsn+Zkz7FxhxPtgL087ZTUadKHxiR4Ro+KpudQrJCntdAo28yHDmI9dbVG9Hx2P3L1QtDnyNZBXkLfx3KSpSxobtuvGWok9HXpuOd942pOVls3DESUaD/FpXmXU4AAAAakGfDUURLH8CLHnFR1n5W8AAD+ZdF4+m3SlwOswAbf2C4YncsUIY1yIh2d8gHx3zG4O+sEuZD29xq0WIie78j5FZ7tAM0oJeTYRd1HYGEzdXLSyZMK9oZK+hypTd68ppwV2aqMeH46b0Q7EAAABGAZ8sdEb/AQ1CHYABOSk2v55SKxIJT7jeviFuqizFtEqr53xxktDf3yVKgA2MPnTZhTr1BHSf3r0pbUgfEvzKBjdBkNAvQQAAAD4Bny5qRv8Aa9tMoACfZOw6l1yg7lx1bldsJxm1tQHyBZqfw6hQAQ8ZWBjerUt+rZsnD/4WWUp3UJJGMoBOJQAAAMVBmzFJqEFsmUwUTCv//jhAAAADAA2ErDLi7GilmkK2qPjx9m+SfqMXodeC4AEdqDJLqb8v+09HcIHvygoOedU2lZXIjGj5x8Rev5VMRmgJEYiRV3scswtf7L7vWRozqXdyOkFz3BUVTAdeDuhnkRdLmAZlaRWwb/EdfQH3+aVrF1UN6gDe5nbPxNwan7JfmyBQqgMsH+oKoMinaTlnq/OBrdLcta8MiOi2DdPAzmxEFz2TV54+UofcU8WL0lVE0gO7Xy0EwAAAAEABn1BqRv8CwFFJ5m9wAJLP5XbYfuRHzzJcnlVyBxM59W5OhOUq5soSD0Z3/YOAAKiio7pm9ClimLQKY93PP/mAAAAA9EGbVUnhClJlMCFf/jhAAAADAA2AQxfm3ykQ8AAfh0xXOzXJsSokITQ9nQrm0ioFD5slJJ+QiFEmlC615s7DwQXcSWU7YdxHaeUfeNBJ2XLcwPYEE/BqLD4WRSAKLWbiODyyUwYIaQe9DGVYyHS1se2pjwZDfF7RZsRAbAJfepmL/IMO6EpLA5fmpGXjdmcaiow/UV8EbHT39cv/pEtBjgR7SnkgCWp5nqpydfzep9rpgskxCpVD8NF4ImXCk6xCrwvO5+XsMKR16crbnA47iK5XhCJLxC/A8SD2ASmnKZG4pxngkHRhKoag2JPkbmrSr+Zq7YEAAAB1QZ9zRTRMfwIsOkJ+DWea4AAVmZWqzKGv8mBRuQudZCrhYZ74/Rnb89bShA/6jsKACHHPp2lG2H6+GwZPYJJa2Urmu53QXvDJkJFvPulDnReAuiE9vloeLyE13pmKoEsfQZflVIW2zyJ6u28x5fHo+TAc9e6AAAAAVAGfknRG/wENQh2AATnzX8esCtHl6xrPHLkYlgA4xwKCCriOr2zXlTKAS+utAAT3jFUFVTHndPhhf06+Po2mL3RTroScaEUdg39gEviM+n5DWgQNcAAAADkBn5RqRv8Aa9tMoAGmjoRyVq+r9Tj3lgz/pNsr5LI5eK+FGb2T4elhwQbwBf+KszeIobFl5mT4IJ0AAADVQZuZSahBaJlMCFf//jhAAAADACO0Iva0WCgEKX7SinxS2YbPstKsWBAJUjeTl+1Rir7SFq6T5sxaQ6zA34BvXTp+YO08jq46oGrISW4IBWunnsQvryTlhvexuwSzWG48BEyQCY9Cbrjp6tQOJK5bqyOsAj7I9DXOPhVAERAxrkSbCJISdLM8OZFd18gOxA7QozIpAHsn9l0O6KfL0UtCdxfA1CpYQOHmaDtg1XO8J739NXELxMdPb8sXLt8XgLUN26a4xGd4PtvEJXGGTuMhnF+nwKRYAAAAgEGft0URLH8CLHnFR1n5W8AAKz5l5A8/eh4WPloYjAAG45sUsmjxRn+WK0hLFgPVbGz7xv9VcgjcaoWXxRN00wH36ujluUviREZQVdIoDKz679N7JBTGMdTgbbeTfbJwnljKJWQR6LVsjZipclnNlHDq24F5G5KwZfNZ+gMZ+Mk5AAAAXQGf1nRG/wENQh2AA0GEtViuxvf4AVnDi8kOp9BmkrKwSACg4gGOjlpxjYHvw7XA392MqsBspUWEqT3wacUEQboX7Jr1H0KVktRTy8Y6PRsrvY4WG67X02mm3fUSoQAAADoBn9hqRv8Aa9tMoAGll0BCQaRnOwd3twPFFfXSCmxRgfrcmAF8Yt8LQAQtCwp7cx9fT41QmtxJajouAAAAnEGb3UmoQWyZTAhX//44QAAAAwAjn1bU6IAq8JGtX2NUKzrRYveRdMPKQqq0H2EJMbDhed1BGq2HRhlBDkQleyNm5QaEKgbwS/rWkjjEjoZebp4+lTxpdkFP54i0kxE8CgiACivfa8kKPdMIXx+ccHoHFHwBAsw95RxXJ889AdIzLP05mOieFATafXZJGLRaV89Z3nFjE3EtajlJGQAAAGdBn/tFFSx/Aix5xUdZ+VvAACsoWJ370a14wxEgABW9Va3WYmD6H7yciZMor452TQ6uCBUghk3swDXgXkJ3uEytThCWw/+ESL+OGcrsn/DOPRpTSQsKMlkoGxHywuXpUKz/SUm3G3tAAAAAWwGeGnRG/wENQh2AAz6ZycuI+0p933WLSGTfEMqLQAVpe/HzyWP+PLz8mgSC7FWJLlwkuV/KwyVryGGLSzcNKlz0KLTQMcWxKOAUgn1Zfsxp5IgkecJ7pKcJqYEAAAAhAZ4cakb/AGvbTKABpcxkka7JBW7biW0hhBzgyOXAmWBBAAAAK0GaH0moQWyZTBRMK//+OEAAAAMABRkdgHYgCqVbRx1Qi8MkdgFW4qp4ldwAAAAcAZ4+akb/AsBRSeZvcAF+3Vc6vot56/9TGzqVsAAAAIpBmiNJ4QpSZTAhP/3xAAADAABYXxRHJAc8q66H9lW3cAM2uZ2qDJqlkNJd1JLJHpRkpNypZ86esPT9sF8EvOo2/I32t2h/eM/iQ5NvpC27Krric0jfgs+8NRYuAYTRJQ6/cDF8yVE/3zGfLrgWARFXm7Ltu231DLtphrLtaWLK25cX+mMbq373nk8AAABZQZ5BRTRMfwIsOkJ+DWea4AAVnbzsc3KOwfOwA6Reg36iwB22WnZ84sdZSOyLpeDgB/yz/bfsKdhaxdfFN6DfVdPsxVI8+ducY/OJpmaOXgeEt99eLu8IS4AAAAAtAZ5gdEb/AQ1CHYADPpZp3Z4ABwPi6FWGRrjrglHLetzjNP5kqndkMqSLlOxBAAAAUwGeYmpG/wBr20ygAaWUcFVXccJDT1SL5l44+ofahSgBWyCAV8k3pyvLd7vIViHA/296jR7JrYFIyPJ5IHGub8DvKWqA8iAb+W+wOhqxJxlG77/AAAAAm0GaZ0moQWiZTAj//IQAAAMAAh3OsU+LLAWrDBiXSa5O9hl4wA3MdlF30y7b1CHt4Zx2Wl00FuCPU8MWXdzoJmSDKZ0WBtpDkN+r+K5WoMuOzZhpG4gSiZ6tDPiGkNZM38oNhx7REfI+db3/M00Hkat1qnAALLfWH7hyJN4Xx7WWjxduAfwc9or4FAnZC6f6C8CBwC1wk+zI/YmxAAAAfkGehUURLH8CLHnFR1n5W8AAKx0XVhjDTBQSZPpYVW7YxAAWnOQZ3hjU1YierUJAafdHuvesuHUtP0StrVgY7kV+keELGsee6YSVwzwWh01rgzWrVEJWUtIyyhIaKoMt87dS37dPpZSUpjNWuFfSIIC9t6EfIPzoDGXciKQpOQAAADABnqR0Rv8BDUIdgANASi7AFY6wLhzSg3p9NXJDr1RJ9gQSvMFz1ce0Hxe14KNcTDcAAAAxAZ6makb/AGvbTKABpc8E5lVSF9wiODtm4em5AGGt5W1Qe1kXovp1CZNyxfJSAix4RQAAAEhBmqhJqEFsmUwI3/pYAAADAAGT4ppQQ12qKOnEgPAA44f203EdYRCmTHH9uywZTo7SoFp6h0WvetRN+xVOHAcsBEIf0/66Y3AAAAx3bW9vdgAAAGxtdmhkAAAAAAAAAAAAAAAAAAAD6AAAGiwAAQAAAQAAAAAAAAAAAAAAAAEAAAAAAAAAAAAAAAAAAAABAAAAAAAAAAAAAAAAAABAAAAAAAAAAAAAAAAAAAAAAAAAAAAAAAAAAAAAAAAAAgAAC6F0cmFrAAAAXHRraGQAAAADAAAAAAAAAAAAAAABAAAAAAAAGiwAAAAAAAAAAAAAAAAAAAAAAAEAAAAAAAAAAAAAAAAAAAABAAAAAAAAAAAAAAAAAABAAAAAAlgAAAGQAAAAAAAkZWR0cwAAABxlbHN0AAAAAAAAAAEAABosAAAEAAABAAAAAAsZbWRpYQAAACBtZGhkAAAAAAAAAAAAAAAAAAA8AAABkgBVxAAAAAAALWhkbHIAAAAAAAAAAHZpZGUAAAAAAAAAAAAAAABWaWRlb0hhbmRsZXIAAAAKxG1pbmYAAAAUdm1oZAAAAAEAAAAAAAAAAAAAACRkaW5mAAAAHGRyZWYAAAAAAAAAAQAAAAx1cmwgAAAAAQAACoRzdGJsAAAAmHN0c2QAAAAAAAAAAQAAAIhhdmMxAAAAAAAAAAEAAAAAAAAAAAAAAAAAAAAAAlgBkABIAAAASAAAAAAAAAABAAAAAAAAAAAAAAAAAAAAAAAAAAAAAAAAAAAAAAAAAAAAGP//AAAAMmF2Y0MBZAAe/+EAGWdkAB6s2UCYM+XhAAADAAEAAAMAPA8WLZYBAAZo6+PLIsAAAAAYc3R0cwAAAAAAAAABAAAAyQAAAgAAAAAUc3RzcwAAAAAAAAABAAAAAQAABlBjdHRzAAAAAAAAAMgAAAABAAAEAAAAAAEAAAgAAAAAAgAAAgAAAAABAAAKAAAAAAEAAAQAAAAAAQAAAAAAAAABAAACAAAAAAEAAAoAAAAAAQAABAAAAAABAAAAAAAAAAEAAAIAAAAAAQAACgAAAAABAAAEAAAAAAEAAAAAAAAAAQAAAgAAAAABAAAKAAAAAAEAAAQAAAAAAQAAAAAAAAABAAACAAAAAAEAAAoAAAAAAQAABAAAAAABAAAAAAAAAAEAAAIAAAAAAQAACgAAAAABAAAEAAAAAAEAAAAAAAAAAQAAAgAAAAABAAAKAAAAAAEAAAQAAAAAAQAAAAAAAAABAAACAAAAAAEAAAoAAAAAAQAABAAAAAABAAAAAAAAAAEAAAIAAAAAAQAACgAAAAABAAAEAAAAAAEAAAAAAAAAAQAAAgAAAAABAAAKAAAAAAEAAAQAAAAAAQAAAAAAAAABAAACAAAAAAEAAAoAAAAAAQAABAAAAAABAAAAAAAAAAEAAAIAAAAAAQAACgAAAAABAAAEAAAAAAEAAAAAAAAAAQAAAgAAAAABAAAGAAAAAAEAAAIAAAAAAQAACgAAAAABAAAEAAAAAAEAAAAAAAAAAQAAAgAAAAABAAAKAAAAAAEAAAQAAAAAAQAAAAAAAAABAAACAAAAAAEAAAoAAAAAAQAABAAAAAABAAAAAAAAAAEAAAIAAAAAAQAACgAAAAABAAAEAAAAAAEAAAAAAAAAAQAAAgAAAAABAAAKAAAAAAEAAAQAAAAAAQAAAAAAAAABAAACAAAAAAEAAAoAAAAAAQAABAAAAAABAAAAAAAAAAEAAAIAAAAAAQAACgAAAAABAAAEAAAAAAEAAAAAAAAAAQAAAgAAAAABAAAKAAAAAAEAAAQAAAAAAQAAAAAAAAABAAACAAAAAAEAAAoAAAAAAQAABAAAAAABAAAAAAAAAAEAAAIAAAAAAQAABgAAAAABAAACAAAAAAEAAAoAAAAAAQAABAAAAAABAAAAAAAAAAEAAAIAAAAAAQAACgAAAAABAAAEAAAAAAEAAAAAAAAAAQAAAgAAAAABAAAGAAAAAAEAAAIAAAAAAQAACgAAAAABAAAEAAAAAAEAAAAAAAAAAQAAAgAAAAABAAAKAAAAAAEAAAQAAAAAAQAAAAAAAAABAAACAAAAAAEAAAoAAAAAAQAABAAAAAABAAAAAAAAAAEAAAIAAAAAAQAABgAAAAABAAACAAAAAAEAAAoAAAAAAQAABAAAAAABAAAAAAAAAAEAAAIAAAAAAQAACgAAAAABAAAEAAAAAAEAAAAAAAAAAQAAAgAAAAABAAAKAAAAAAEAAAQAAAAAAQAAAAAAAAABAAACAAAAAAEAAAYAAAAAAQAAAgAAAAABAAAKAAAAAAEAAAQAAAAAAQAAAAAAAAABAAACAAAAAAEAAAoAAAAAAQAABAAAAAABAAAAAAAAAAEAAAIAAAAAAQAACgAAAAABAAAEAAAAAAEAAAAAAAAAAQAAAgAAAAABAAAKAAAAAAEAAAQAAAAAAQAAAAAAAAABAAACAAAAAAEAAAoAAAAAAQAABAAAAAABAAAAAAAAAAEAAAIAAAAAAQAACgAAAAABAAAEAAAAAAEAAAAAAAAAAQAAAgAAAAABAAAKAAAAAAEAAAQAAAAAAQAAAAAAAAABAAACAAAAAAEAAAoAAAAAAQAABAAAAAABAAAAAAAAAAEAAAIAAAAAAQAACgAAAAABAAAEAAAAAAEAAAAAAAAAAQAAAgAAAAABAAAGAAAAAAEAAAIAAAAAAQAACgAAAAABAAAEAAAAAAEAAAAAAAAAAQAAAgAAAAABAAAKAAAAAAEAAAQAAAAAAQAAAAAAAAABAAACAAAAAAEAAAYAAAAAAQAAAgAAAAABAAAKAAAAAAEAAAQAAAAAAQAAAAAAAAABAAACAAAAAAEAAAoAAAAAAQAABAAAAAABAAAAAAAAAAEAAAIAAAAAAQAACgAAAAABAAAEAAAAAAEAAAAAAAAAAQAAAgAAAAABAAAGAAAAAAEAAAIAAAAAAQAACgAAAAABAAAEAAAAAAEAAAAAAAAAAQAAAgAAAAABAAAKAAAAAAEAAAQAAAAAAQAAAAAAAAABAAACAAAAAAEAAAQAAAAAHHN0c2MAAAAAAAAAAQAAAAEAAADJAAAAAQAAAzhzdHN6AAAAAAAAAAAAAADJAAAQwAAAAMoAAABsAAAAHgAAAPIAAABJAAAAPwAAACgAAADYAAAAbwAAAEUAAABbAAABowAAAGAAAABoAAAAUQAAAZQAAACgAAAAZAAAAGsAAAFIAAAAZgAAAGQAAABDAAABRwAAAHoAAABEAAAAUwAAAO0AAABcAAAARAAAAFsAAADEAAAAcwAAAEgAAABqAAAAfgAAAFIAAAAjAAAAIQAAAL8AAABdAAAAOwAAAFkAAAD8AAAAdAAAADoAAAA/AAAA+AAAAG8AAABIAAAARwAAAMIAAAAvAAABIwAAAG0AAABFAAAAWQAAATUAAAB+AAAAXAAAAFIAAAEIAAAAWAAAAE4AAABeAAABCgAAAFEAAABVAAAAQgAAAQIAAABmAAAAOgAAAEQAAAAiAAAAdAAAACAAAAAgAAAAuQAAAEgAAAAbAAAALgAAALAAAABZAAAAQQAAAFAAAAEBAAAAYgAAAFQAAABWAAAAugAAAE8AAAEwAAAAhAAAAFYAAABmAAABQgAAAF4AAABDAAAAMwAAAM8AAABAAAABCAAAAHMAAABVAAAAPgAAAPsAAAB7AAAAYAAAAD0AAACyAAAAZgAAAF0AAAAlAAAARAAAACEAAACoAAAAXgAAAEUAAABUAAAA8gAAAHoAAAAyAAAAMAAAANsAAABgAAAATAAAAFwAAADIAAAALwAAATcAAAB5AAAAPwAAAFoAAAEWAAAAhAAAAGEAAABRAAABFwAAAF4AAABWAAAAbwAAAQ0AAABNAAAAWQAAAEEAAAD1AAAAZAAAAD0AAABDAAAAQwAAAHEAAAAmAAAAJgAAALkAAABNAAAAJAAAADAAAACtAAAAYAAAAFEAAABUAAAA9QAAAHcAAABjAAAAWgAAAL4AAABXAAABOQAAAJwAAABiAAAAcAAAASgAAABuAAAASgAAAEIAAADJAAAARAAAAPgAAAB5AAAAWAAAAD0AAADZAAAAhAAAAGEAAAA+AAAAoAAAAGsAAABfAAAAJQAAAC8AAAAgAAAAjgAAAF0AAAAxAAAAVwAAAJ8AAACCAAAANAAAADUAAABMAAAAFHN0Y28AAAAAAAAAAQAAADAAAABidWR0YQAAAFptZXRhAAAAAAAAACFoZGxyAAAAAAAAAABtZGlyYXBwbAAAAAAAAAAAAAAAAC1pbHN0AAAAJal0b28AAAAdZGF0YQAAAAEAAAAATGF2ZjU4LjI5LjEwMA==\" type=\"video/mp4\">\n",
              " Your browser does not support the video tag.\n",
              " </video>"
            ]
          },
          "metadata": {}
        }
      ],
      "source": [
        "import gymnasium as gym\n",
        "import renderlab as rl\n",
        "\n",
        "env = gym.make(\"MountainCar-v0\", render_mode = \"rgb_array\")\n",
        "env = rl.RenderFrame(env, \"./output\")\n",
        "\n",
        "state, _ = env.reset()\n",
        "state = np.reshape(state, [1, state_size])\n",
        "\n",
        "\n",
        "while True:\n",
        "    act_values = agent.model.predict(state)\n",
        "    action = np.argmax(act_values[0])\n",
        "    next_state, reward, terminated, truncated, info = env.step(action)\n",
        "    next_state = np.reshape(next_state, [1, state_size])\n",
        "    state = next_state\n",
        "\n",
        "    if terminated or truncated:\n",
        "      break\n",
        "\n",
        "env.play()"
      ]
    },
    {
      "cell_type": "code",
      "execution_count": 106,
      "metadata": {
        "id": "hFrGcoB0-1JQ"
      },
      "outputs": [],
      "source": []
    }
  ],
  "metadata": {
    "colab": {
      "collapsed_sections": [
        "8pvCroIuFH08",
        "2EFWCge3E9p6",
        "oeKF218ciAxp",
        "pI91WeYWjo8s",
        "8QoA9LyyhNOt",
        "boTKi5di_k05"
      ],
      "provenance": [],
      "authorship_tag": "ABX9TyO1iuDWj3sUZRsOjg9SFYtz",
      "include_colab_link": true
    },
    "kernelspec": {
      "display_name": "Python 3",
      "name": "python3"
    },
    "language_info": {
      "name": "python"
    }
  },
  "nbformat": 4,
  "nbformat_minor": 0
}